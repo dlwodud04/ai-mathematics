{
  "nbformat": 4,
  "nbformat_minor": 0,
  "metadata": {
    "colab": {
      "provenance": [],
      "authorship_tag": "ABX9TyOSL+XpAh11tPr0hYLwjtQK",
      "include_colab_link": true
    },
    "kernelspec": {
      "name": "python3",
      "display_name": "Python 3"
    },
    "language_info": {
      "name": "python"
    }
  },
  "cells": [
    {
      "cell_type": "markdown",
      "metadata": {
        "id": "view-in-github",
        "colab_type": "text"
      },
      "source": [
        "<a href=\"https://colab.research.google.com/github/dlwodud04/ai-mathematics/blob/main/23-05-09/Derivative_Training.ipynb\" target=\"_parent\"><img src=\"https://colab.research.google.com/assets/colab-badge.svg\" alt=\"Open In Colab\"/></a>"
      ]
    },
    {
      "cell_type": "markdown",
      "source": [
        "**함수 f(x)의 미분에 대한 해석**\n",
        "- 입력변수x가 (아주 미세하게) 변할때, 함수f(x)의 변화량을 나타내는 식\n",
        "- 함수f(x)가 입력 값 x의미세한 변화에 얼마나 민감하게 반응하는지 나타내는 식"
      ],
      "metadata": {
        "id": "7Vd5Khd1N7lS"
      }
    },
    {
      "cell_type": "markdown",
      "source": [
        "**편미분에 대한 정의**\n",
        "\n",
        "- 편미분은 입력 변수가 2개 이상인 다변수 함수에서 미분하고자 하는 변수 1개를 제외한 나머지 변수들은 상수로 취급하고, 특정한 한 변수에 대해서만 미분하는\n",
        "것을 의미합니다."
      ],
      "metadata": {
        "id": "R7qS6hk7QuES"
      }
    },
    {
      "cell_type": "markdown",
      "source": [
        "**체인룰**\n",
        "- 체인룰이란 합성함수를 미분하기 우해 사용한 방식입니다\n",
        "- 합성함수란 여러 함수로 구성된 함수\n",
        "- 합성함수를 미분하기 위해서 '합성함수를 구성하는 각 함수의 미분의 곱'으로 나타내는 체인룰을 이용합니다.\n"
      ],
      "metadata": {
        "id": "ntgzwH7iAsX_"
      }
    },
    {
      "cell_type": "markdown",
      "source": [
        "**수치미분**\n",
        "- 수수치미분(Numerical Derivative)이란 C언어나 파이썬 등의 프로그래밍 언어를 이용하여 미분 값, \n",
        "즉 입력 값이 아주 미세하게 변할 때 함수𝑓는 얼마나 변하는지 계산하는 것을 의미\n",
        "합니다\n"
      ],
      "metadata": {
        "id": "400BpdJkJ1hx"
      }
    },
    {
      "cell_type": "markdown",
      "source": [
        "**다변수 함수의 수치미분**\n",
        "- 입력 변수가 2개 이상인 다변수 함수의 경우 각각의 입력 변수는 서로 독립적이기 때문에 수치미분 또한 각각의 변수만큼 개별적으로 계산해야 합니다.\n"
      ],
      "metadata": {
        "id": "6Mm4AeMpQPLE"
      }
    },
    {
      "cell_type": "markdown",
      "source": [
        "**np.zero와 np.zeros_like**\n",
        "- np.zero는 0으로 이루어진 array를 출력합니다. 해당 array에는 tuple 또는 int 또는 list의 값이 포함되어 있어야 합니다. 그러면 해당하는 shape의 array로 반환합니다.\n",
        "- np.zero_like는 어떤 변수만큼의 사이즈인 0으로 이루어진 array를 출력합니다. 여기에는 변수가 들어와야 합니다. 변수 외에 [2, 3, 3]가 같이 parameter로 넣어주어도 되며, 단, 2, 3, 3 shape를 가진 array를 가지고 나오는 것이 아니 [0, 0 ,0]이 numpy array가 출력됩니다\n"
      ],
      "metadata": {
        "id": "0ZbtHriKR0z8"
      }
    },
    {
      "cell_type": "markdown",
      "source": [
        "**numpy iterator**\n",
        "- 인덱싱이나 슬라이싱과 같이 행렬의 원소를 하나씩 가져오는 방법 외에 행렬의 모든 원소를 처음부터 끝까지 하나씩 가져오기 위해서는 이터레이터의 방법을 가장 많이 사용합니다.\n",
        "- numpy에서의 이터레이터는 C++, Java에서의 이터레이터 처럼 next 메서드를 통해서 데이터의 처음부터 끝까지 순차적으로 읽어들이는 방법을 제공하고 있습니다."
      ],
      "metadata": {
        "id": "f945sSa-SMDf"
      }
    },
    {
      "cell_type": "code",
      "execution_count": 3,
      "metadata": {
        "id": "bIpUtw-tJtFO",
        "colab": {
          "base_uri": "https://localhost:8080/"
        },
        "outputId": "38af821f-b6ef-4ac3-c41d-ca0e66733090"
      },
      "outputs": [
        {
          "output_type": "stream",
          "name": "stdout",
          "text": [
            "6.000000000039306\n"
          ]
        }
      ],
      "source": [
        "# 함수 𝑓 𝑥 = 𝑥²미분계수 𝑓^t(3.0) 계산 실습\n",
        "\n",
        "import numpy as np\n",
        "# 미분 공식 구현\n",
        "def numerical_derivative(f,x):\n",
        "    delta = 1e-5\n",
        "    diff_x = (f(x+delta) - f(x-delta)) / (2*delta)\n",
        "    return diff_x\n",
        "\n",
        "# 미분 대상 함수\n",
        "def func1(x):\n",
        "    return x**2\n",
        "\n",
        "result = numerical_derivative(func1, 3.0)\n",
        "print(result)"
      ]
    },
    {
      "cell_type": "code",
      "source": [
        "# 함수 𝑓 𝑥 = 3𝑥e^x 미분계수 𝑓'(2.0) 계산 실습\n",
        "\n",
        "import numpy as np\n",
        "# 미분 공식 구현\n",
        "def numerical_derivative(f,x):\n",
        "    delta = 1e-5\n",
        "    diff_x = (f(x+delta) - f(x-delta)) / (2*delta)\n",
        "    return diff_x\n",
        "\n",
        "# 미분 대상 함수\n",
        "def func2(x):\n",
        "    return 3*x*(np.exp(x))\n",
        "\n",
        "result = numerical_derivative(func2, 2.0)\n",
        "print(result)"
      ],
      "metadata": {
        "colab": {
          "base_uri": "https://localhost:8080/"
        },
        "id": "i99lHsCVOmcN",
        "outputId": "3a54fe4d-efbe-467d-e56b-6fd4a00e206a"
      },
      "execution_count": null,
      "outputs": [
        {
          "output_type": "stream",
          "name": "stdout",
          "text": [
            "66.50150489306839\n"
          ]
        }
      ]
    },
    {
      "cell_type": "code",
      "source": [
        "# 수학공식 검증\n",
        "\n",
        "print(3*np.exp(2)+ 3*2*np.exp(2))"
      ],
      "metadata": {
        "colab": {
          "base_uri": "https://localhost:8080/"
        },
        "id": "uTIwq8a9PJCL",
        "outputId": "7e327637-a907-4add-a9ba-8864703b9995"
      },
      "execution_count": 5,
      "outputs": [
        {
          "output_type": "stream",
          "name": "stdout",
          "text": [
            "66.50150489037586\n"
          ]
        }
      ]
    },
    {
      "cell_type": "code",
      "source": [
        "# np.zeros\n",
        "\n",
        "import numpy as np\n",
        "\n",
        "a = np.zeros([2,3,3])\n",
        "\n",
        "a"
      ],
      "metadata": {
        "colab": {
          "base_uri": "https://localhost:8080/"
        },
        "id": "rWuHASBkRDNa",
        "outputId": "460db475-909d-40eb-b757-58dfcd2f9195"
      },
      "execution_count": 6,
      "outputs": [
        {
          "output_type": "execute_result",
          "data": {
            "text/plain": [
              "array([[[0., 0., 0.],\n",
              "        [0., 0., 0.],\n",
              "        [0., 0., 0.]],\n",
              "\n",
              "       [[0., 0., 0.],\n",
              "        [0., 0., 0.],\n",
              "        [0., 0., 0.]]])"
            ]
          },
          "metadata": {},
          "execution_count": 6
        }
      ]
    },
    {
      "cell_type": "code",
      "source": [
        "b = np.zeros((2,3,3))\n",
        "\n",
        "b"
      ],
      "metadata": {
        "colab": {
          "base_uri": "https://localhost:8080/"
        },
        "id": "tyCyQKTaRXrP",
        "outputId": "8124ed42-cd8c-4964-a1f1-2f011bab7198"
      },
      "execution_count": 7,
      "outputs": [
        {
          "output_type": "execute_result",
          "data": {
            "text/plain": [
              "array([[[0., 0., 0.],\n",
              "        [0., 0., 0.],\n",
              "        [0., 0., 0.]],\n",
              "\n",
              "       [[0., 0., 0.],\n",
              "        [0., 0., 0.],\n",
              "        [0., 0., 0.]]])"
            ]
          },
          "metadata": {},
          "execution_count": 7
        }
      ]
    },
    {
      "cell_type": "code",
      "source": [
        "# np.zeros_like\n",
        "a = np.zeros_like((2,3,3,10))\n",
        "b = np.zeros_like(a)\n",
        "\n",
        "b"
      ],
      "metadata": {
        "colab": {
          "base_uri": "https://localhost:8080/"
        },
        "id": "brzjLcyDRiht",
        "outputId": "d1bb37ed-ccc7-436a-b4d7-e115a6c778f8"
      },
      "execution_count": 8,
      "outputs": [
        {
          "output_type": "execute_result",
          "data": {
            "text/plain": [
              "array([0, 0, 0, 0])"
            ]
          },
          "metadata": {},
          "execution_count": 8
        }
      ]
    },
    {
      "cell_type": "code",
      "source": [
        "a = np.zeros_like([2,3,3,10])\n",
        "b = np.zeros_like(a)\n",
        "\n",
        "b"
      ],
      "metadata": {
        "colab": {
          "base_uri": "https://localhost:8080/"
        },
        "id": "bWJjTQsXRqOs",
        "outputId": "ec498d3a-06d5-42ec-9b6f-be33ed22ce6e"
      },
      "execution_count": 9,
      "outputs": [
        {
          "output_type": "execute_result",
          "data": {
            "text/plain": [
              "array([0, 0, 0, 0])"
            ]
          },
          "metadata": {},
          "execution_count": 9
        }
      ]
    },
    {
      "cell_type": "code",
      "source": [
        "# numpy iterator\n",
        "\n",
        "import numpy as np\n",
        "\n",
        "A = np.array([[10,20,30,40],[50,60,70,80]])\n",
        "\n",
        "print(A)\n",
        "print(A.shape)\n",
        "\n",
        "it = np.nditer(A,flags=['multi_index'],op_flags=['readwrite'])\n",
        "\n",
        "while not it.finished:\n",
        "    idx = it.multi_index\n",
        "    print('index =>', idx, 'value=>', A[idx])\n",
        "    it.iternext()"
      ],
      "metadata": {
        "colab": {
          "base_uri": "https://localhost:8080/"
        },
        "id": "gvvrMKVWSgCh",
        "outputId": "59cb81bd-12ca-4661-cac5-ceb77c1213ba"
      },
      "execution_count": 11,
      "outputs": [
        {
          "output_type": "stream",
          "name": "stdout",
          "text": [
            "[[10 20 30 40]\n",
            " [50 60 70 80]]\n",
            "(2, 4)\n",
            "index => (0, 0) value=> 10\n",
            "index => (0, 1) value=> 20\n",
            "index => (0, 2) value=> 30\n",
            "index => (0, 3) value=> 40\n",
            "index => (1, 0) value=> 50\n",
            "index => (1, 1) value=> 60\n",
            "index => (1, 2) value=> 70\n",
            "index => (1, 3) value=> 80\n"
          ]
        }
      ]
    },
    {
      "cell_type": "code",
      "source": [
        "# numpy iterator에 대한 코딩 실습\n",
        "\n",
        "import numpy as np\n",
        "\n",
        "def numerical_derivative(f,x): # f는 미분하고자 하는 다변수 함수 , x는 모든 변수를 포함하고 있는 numpy 객체(배열,행렬,....)\n",
        "    delta_x = 1e-5\n",
        "    grad = np.zeros_like(x) # 1. 계산된 수치미분 값 저장 변수\n",
        "    it = np.nditer(A,flags=['multi_index'],op_flags=['readwrite']) # 2. 모든 입력변수에 대해 편미분하기 위해 iterator 획득 \n",
        "    while not it.finished:\n",
        "        idx = it.multi_index\n",
        "        tmp_x = x[idx] # 3. numpy 타입은 mutable 이므로 원래 값 보관\n",
        "        x[idx] = float(tmp_x) + delta_x # 4,하나의 변수에 대한 수치미분 계산\n",
        "        fx1 = f(x) #f(x+delta_x)\n",
        "\n",
        "        x[idx] = tmp_x - delta_x\n",
        "        fx2 = f(x) #f(x-delta_x)\n",
        "        grad[idx] = (fx1-fx2) / (2*delta_x)\n",
        "\n",
        "        x[idx] - tmp_x\n",
        "        it.iternext()\n",
        "    \n",
        "    return grad\n"
      ],
      "metadata": {
        "id": "Z8Jqi6YYTqcS"
      },
      "execution_count": null,
      "outputs": []
    }
  ]
}