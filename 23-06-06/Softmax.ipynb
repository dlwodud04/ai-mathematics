{
  "nbformat": 4,
  "nbformat_minor": 0,
  "metadata": {
    "colab": {
      "provenance": [],
      "authorship_tag": "ABX9TyMrqzJD6CzXKaEspx3aiTQB",
      "include_colab_link": true
    },
    "kernelspec": {
      "name": "python3",
      "display_name": "Python 3"
    },
    "language_info": {
      "name": "python"
    }
  },
  "cells": [
    {
      "cell_type": "markdown",
      "metadata": {
        "id": "view-in-github",
        "colab_type": "text"
      },
      "source": [
        "<a href=\"https://colab.research.google.com/github/dlwodud04/ai-mathematics/blob/main/23-06-06/Softmax.ipynb\" target=\"_parent\"><img src=\"https://colab.research.google.com/assets/colab-badge.svg\" alt=\"Open In Colab\"/></a>"
      ]
    },
    {
      "cell_type": "code",
      "execution_count": 7,
      "metadata": {
        "colab": {
          "base_uri": "https://localhost:8080/"
        },
        "id": "ki_ffHV9zbqi",
        "outputId": "e4033d3a-51e7-48d5-a29b-b760ffa47f91"
      },
      "outputs": [
        {
          "output_type": "execute_result",
          "data": {
            "text/plain": [
              "array([[0.24472847, 0.66524096, 0.09003057],\n",
              "       [0.33333333, 0.33333333, 0.33333333],\n",
              "       [0.21194156, 0.21194156, 0.57611688]])"
            ]
          },
          "metadata": {},
          "execution_count": 7
        }
      ],
      "source": [
        "import numpy as np\n",
        "def softmax(z):\n",
        "\tdenumerator = np.exp(z-np.max(z, axis=-1, keepdims =True))\n",
        "\tnumerator= np.sum(denumerator, axis=-1,keepdims=True)\n",
        "\tval = denumerator/numerator\n",
        "\treturn val\n",
        "\n",
        "z = np.array([[1,2,0],[1,1,1],[2,2,3]])\n",
        "softmax(z)\n"
      ]
    }
  ]
}