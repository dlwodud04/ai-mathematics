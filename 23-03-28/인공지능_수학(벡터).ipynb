{
  "nbformat": 4,
  "nbformat_minor": 0,
  "metadata": {
    "colab": {
      "provenance": [],
      "authorship_tag": "ABX9TyMNkacqbpmQLmSLZ0+j1Lol",
      "include_colab_link": true
    },
    "kernelspec": {
      "name": "python3",
      "display_name": "Python 3"
    },
    "language_info": {
      "name": "python"
    }
  },
  "cells": [
    {
      "cell_type": "markdown",
      "metadata": {
        "id": "view-in-github",
        "colab_type": "text"
      },
      "source": [
        "<a href=\"https://colab.research.google.com/github/dlwodud04/ai-mathematics/blob/main/23-03-28/%EC%9D%B8%EA%B3%B5%EC%A7%80%EB%8A%A5_%EC%88%98%ED%95%99(%EB%B2%A1%ED%84%B0).ipynb\" target=\"_parent\"><img src=\"https://colab.research.google.com/assets/colab-badge.svg\" alt=\"Open In Colab\"/></a>"
      ]
    },
    {
      "cell_type": "markdown",
      "source": [
        "**벡터의 스칼라곱에 대한 코딩 실습**\n",
        "- 벡터의 스칼라곱에 대한 코딩 실습\n",
        "- a=2, X=[1,2,3]일때, aX를 구하시오"
      ],
      "metadata": {
        "id": "7IkQC5JVxM0l"
      }
    },
    {
      "cell_type": "code",
      "execution_count": 5,
      "metadata": {
        "colab": {
          "base_uri": "https://localhost:8080/"
        },
        "id": "IWYJBCdPfZMK",
        "outputId": "380d82bd-7429-4292-e85d-641c68b0fc95"
      },
      "outputs": [
        {
          "output_type": "stream",
          "name": "stdout",
          "text": [
            "[2 4 6]\n"
          ]
        }
      ],
      "source": [
        "import numpy as np\n",
        "\n",
        "a = 2\n",
        "x = np.array([1,2,3])\n",
        "\n",
        "m=(a*x)\n",
        "\n",
        "print(m)"
      ]
    },
    {
      "cell_type": "markdown",
      "source": [
        "**벡터의 합에 대한 코딩 실습**\n",
        "- 벡터의 합에 대한 코딩 실습\n",
        "- X=[1,2,3],Y=[4,5,6]일때, X+Y를 구하시오"
      ],
      "metadata": {
        "id": "arnATFhMxeM4"
      }
    },
    {
      "cell_type": "code",
      "source": [
        "x = np.array([1,2,3])\n",
        "y = np.array([4,5,6])\n",
        "\n",
        "s = x+y\n",
        "\n",
        "print(s)"
      ],
      "metadata": {
        "colab": {
          "base_uri": "https://localhost:8080/"
        },
        "id": "NTkIkKPtomj_",
        "outputId": "5c1796ec-c07e-4da6-c325-5216f1e72bb3"
      },
      "execution_count": 6,
      "outputs": [
        {
          "output_type": "stream",
          "name": "stdout",
          "text": [
            "[5 7 9]\n"
          ]
        }
      ]
    },
    {
      "cell_type": "code",
      "source": [
        "x = [1,2,3,4,5]\n",
        "y = [3,4,5]\n",
        "\n",
        "c = x+y\n",
        "\n",
        "print(c)"
      ],
      "metadata": {
        "colab": {
          "base_uri": "https://localhost:8080/"
        },
        "id": "QYUQcK0Go4Xu",
        "outputId": "9038cd0e-0a04-4e11-9446-9a72e0d90290"
      },
      "execution_count": 8,
      "outputs": [
        {
          "output_type": "stream",
          "name": "stdout",
          "text": [
            "[1, 2, 3, 4, 5, 3, 4, 5]\n"
          ]
        }
      ]
    },
    {
      "cell_type": "markdown",
      "source": [
        "**벡터의 차에 대한 코딩 실습**\n",
        "- 벡터의 차에 대한 코딩 실습\n",
        "- X=[1,2,3],Y=[4,5,6]일때, X-Y를 구하시오"
      ],
      "metadata": {
        "id": "cg2EYcTWxqGH"
      }
    },
    {
      "cell_type": "code",
      "source": [
        "x = np.array([1,2,3])\n",
        "y = np.array([4,5,6])\n",
        "\n",
        "s = x-y\n",
        "\n",
        "print(s)"
      ],
      "metadata": {
        "colab": {
          "base_uri": "https://localhost:8080/"
        },
        "id": "CNZxkPNNuI3U",
        "outputId": "6f14cb6f-3530-4e54-eab4-baaf774ecfc5"
      },
      "execution_count": 9,
      "outputs": [
        {
          "output_type": "stream",
          "name": "stdout",
          "text": [
            "[-3 -3 -3]\n"
          ]
        }
      ]
    },
    {
      "cell_type": "markdown",
      "source": [
        "**벡터의 성분곱에 대한 코딩 실습**\n",
        "- 벡터의 성분곱에 대한 코딩 실습\n",
        "- X=[1,2,3],Y=[4,5,6]일때, X o Y를 구하시오"
      ],
      "metadata": {
        "id": "t0QXac_VxyDP"
      }
    },
    {
      "cell_type": "code",
      "source": [
        "a = np.array([1,2,3])\n",
        "b = np.array([4,5,6])\n",
        "\n",
        "h = a*b\n",
        "\n",
        "print(h)"
      ],
      "metadata": {
        "colab": {
          "base_uri": "https://localhost:8080/"
        },
        "id": "DmUTGRXawr1I",
        "outputId": "c919f1cd-49bb-4acb-cfdb-c114c952125b"
      },
      "execution_count": 10,
      "outputs": [
        {
          "output_type": "stream",
          "name": "stdout",
          "text": [
            "[ 4 10 18]\n"
          ]
        }
      ]
    },
    {
      "cell_type": "code",
      "source": [
        "x = [1,2,3]\n",
        "y = [4,5,6]\n",
        "\n",
        "s = x+y\n",
        "\n",
        "print(s)"
      ],
      "metadata": {
        "colab": {
          "base_uri": "https://localhost:8080/"
        },
        "id": "-QPlfS9Iw6Or",
        "outputId": "a552a26f-e871-40af-e291-7d4fda813582"
      },
      "execution_count": 12,
      "outputs": [
        {
          "output_type": "stream",
          "name": "stdout",
          "text": [
            "[1, 2, 3, 4, 5, 6]\n"
          ]
        }
      ]
    },
    {
      "cell_type": "markdown",
      "source": [
        "**L1 노름에 대한 코딩 실습**\n",
        "- L1 노름에 대한 코딩 실습\n",
        "- X=[3,4]일때, L1노름을 구하시오"
      ],
      "metadata": {
        "id": "ii9x5wan0Iii"
      }
    },
    {
      "cell_type": "code",
      "source": [
        "import numpy as np\n",
        "\n",
        "def L1_norm(x) : \n",
        "    a = np.abs(x)\n",
        "    s = np.sum(a)\n",
        "    return s\n",
        "\n",
        "x = np.array([3,4])\n",
        "\n",
        "print(L1_norm(x))"
      ],
      "metadata": {
        "colab": {
          "base_uri": "https://localhost:8080/"
        },
        "id": "ojEGB2v10W4o",
        "outputId": "c2949a5d-8105-44a2-dd31-f80ccc62f8d8"
      },
      "execution_count": 13,
      "outputs": [
        {
          "output_type": "stream",
          "name": "stdout",
          "text": [
            "7\n"
          ]
        }
      ]
    },
    {
      "cell_type": "markdown",
      "source": [
        "**L2 노름에 대한 코딩 실습**\n",
        "- L2 노름에 대한 코딩 실습\n",
        "- X=[3,4]일때, L2노름을 구하시오"
      ],
      "metadata": {
        "id": "PsWYiuPx1B5e"
      }
    },
    {
      "cell_type": "code",
      "source": [
        "import numpy as np\n",
        "\n",
        "def L2_norm(x) : \n",
        "    # return np.sqrt(np.sum(x **2))\n",
        "    p = x*x\n",
        "    s = np.sum(p)\n",
        "    r = np.sqrt(s)\n",
        "    return r\n",
        "\n",
        "x = np.array([3,4])\n",
        "\n",
        "print(L2_norm(x))"
      ],
      "metadata": {
        "colab": {
          "base_uri": "https://localhost:8080/"
        },
        "id": "cot6wS532Wfq",
        "outputId": "3b8d9ccd-0764-4f45-d234-afab05324fd4"
      },
      "execution_count": 14,
      "outputs": [
        {
          "output_type": "stream",
          "name": "stdout",
          "text": [
            "5.0\n"
          ]
        }
      ]
    },
    {
      "cell_type": "markdown",
      "source": [
        "**두 벡터 사이의 각도에 대한 코딩 실습**\n",
        "- 두 벡터 사이의 각도에 대한 코딩 실습\n",
        "- x = [4, 0] , y = [4, 3]일 때, 두 벡터 사이의 각도를 구하시오"
      ],
      "metadata": {
        "id": "DMRGvl_6DK7Z"
      }
    },
    {
      "cell_type": "code",
      "source": [
        "import numpy as np\n",
        "\n",
        "def L2_Norm(x):\n",
        "    return np.sqrt(np.sum(x**2))\n",
        "\n",
        "def angle(x,y):\n",
        "    cos_theta = np.inner(x,y) / (L2_Norm(x) * L2_Norm(y))\n",
        "    theta = np.arccos(cos_theta)\n",
        "    return theta\n",
        "\n",
        "a = np.array([4,0])\n",
        "b = np.array([4,3])\n",
        "angle(a,b)"
      ],
      "metadata": {
        "colab": {
          "base_uri": "https://localhost:8080/"
        },
        "id": "LyKG8eEHDThH",
        "outputId": "87e682b5-0985-40cc-85d9-b08279663619"
      },
      "execution_count": 16,
      "outputs": [
        {
          "output_type": "execute_result",
          "data": {
            "text/plain": [
              "0.6435011087932843"
            ]
          },
          "metadata": {},
          "execution_count": 16
        }
      ]
    }
  ]
}