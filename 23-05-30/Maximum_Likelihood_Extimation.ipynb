{
  "nbformat": 4,
  "nbformat_minor": 0,
  "metadata": {
    "colab": {
      "provenance": [],
      "authorship_tag": "ABX9TyO4y1llJykkaLlSlo+oRtSu",
      "include_colab_link": true
    },
    "kernelspec": {
      "name": "python3",
      "display_name": "Python 3"
    },
    "language_info": {
      "name": "python"
    }
  },
  "cells": [
    {
      "cell_type": "markdown",
      "metadata": {
        "id": "view-in-github",
        "colab_type": "text"
      },
      "source": [
        "<a href=\"https://colab.research.google.com/github/dlwodud04/ai-mathematics/blob/main/23-05-30/Maximum_Likelihood_Extimation.ipynb\" target=\"_parent\"><img src=\"https://colab.research.google.com/assets/colab-badge.svg\" alt=\"Open In Colab\"/></a>"
      ]
    },
    {
      "cell_type": "markdown",
      "source": [
        "**통계적 모델링**\n",
        "- 통계적 모델링은 적절한 가정 위에서 데이터를 표현하는 모델(확률 분포)을 추정하는 것이 목표입니다.\n",
        "- 유한한 개수의 데이터만을 관찰해서 모집단의 분포를 정확하게 알아내는 것이 어렵습니다.\n",
        "- 따라서 근사적으로 모델(확률분포)을 추정하게 됩니다.\n",
        "- 데이터가 특정 확률분포를 따른다고 선형적으로 가정한 후 그분포를 결정하는 모수를 추정하는 방법을 모수적 방법론\n",
        "- 특정 확률분포를 가정하지 않고 데이터에 따라 모델의 구조 및 모수의 개수가 유연하게 바뀌면 비모수 방법론\n",
        "- 머신러닝의 대부분은 비모수 방법론에 속한다"
      ],
      "metadata": {
        "id": "YdDOFcglA7df"
      }
    },
    {
      "cell_type": "markdown",
      "source": [
        "**최대가능도 추정법**\n",
        "- 표본평균이나 표본분산은 중요한 통계량이지만 확률분포마다 사용하는 모수가 다르므로 적절한 통계량이 달라지게 됩니다.\n",
        "- 이론적으로 가장 가능성이 높은 모수를 추정하는 방법 중 하나는 최대가능도 추정법입니다."
      ],
      "metadata": {
        "id": "235D_cHlNev0"
      }
    },
    {
      "cell_type": "code",
      "source": [],
      "metadata": {
        "id": "RkqgvPDsRdqf"
      },
      "execution_count": null,
      "outputs": []
    }
  ]
}