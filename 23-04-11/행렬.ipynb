{
  "nbformat": 4,
  "nbformat_minor": 0,
  "metadata": {
    "colab": {
      "provenance": [],
      "authorship_tag": "ABX9TyOuIgl0Y6C9xmLwBFGXEcfC",
      "include_colab_link": true
    },
    "kernelspec": {
      "name": "python3",
      "display_name": "Python 3"
    },
    "language_info": {
      "name": "python"
    }
  },
  "cells": [
    {
      "cell_type": "markdown",
      "metadata": {
        "id": "view-in-github",
        "colab_type": "text"
      },
      "source": [
        "<a href=\"https://colab.research.google.com/github/dlwodud04/ai-mathematics/blob/main/23-04-11/%ED%96%89%EB%A0%AC.ipynb\" target=\"_parent\"><img src=\"https://colab.research.google.com/assets/colab-badge.svg\" alt=\"Open In Colab\"/></a>"
      ]
    },
    {
      "cell_type": "markdown",
      "source": [
        "**행렬**\n",
        "\n",
        "- 수 또는 문자를 직사각형 모양으로 배열하여 괄호로 묶은 것을 행렬\n",
        "- 행렬을 이루는 각각의 수나 문자를 그 행렬의 성분이라고 한다.\n",
        "- 행렬에서 성분을 가로로 배열한 줄을 행이라고 합니다.\n",
        "- 성분을 세로로 배열한 줄을 열이라고 합니다."
      ],
      "metadata": {
        "id": "aLwHeJNBrg32"
      }
    },
    {
      "cell_type": "markdown",
      "source": [
        "**행렬의 정의**\n",
        "\n",
        "- 일반적으로 m개의 행과 n개의 열로 이루어진 행렬은 m×n 행렬 또는 m행 n열의 행렬이라고 합니다.\n",
        "- 행렬 A의 제 i행과 제 j열이 만나는 위치에 있는 성분을 행렬A의(i,j)성분이라고 하고, 기호로 aij와 같이 나타냅니다."
      ],
      "metadata": {
        "id": "m19MYMHGsWZH"
      }
    },
    {
      "cell_type": "code",
      "execution_count": 11,
      "metadata": {
        "colab": {
          "base_uri": "https://localhost:8080/"
        },
        "id": "DYWjnB5jpi62",
        "outputId": "bbfd0b3c-8029-40e7-e70d-de4c830bcc5c"
      },
      "outputs": [
        {
          "output_type": "stream",
          "name": "stdout",
          "text": [
            "[[1 2 3]\n",
            " [4 5 6]]\n"
          ]
        }
      ],
      "source": [
        "import numpy as np\n",
        "\n",
        "a = np.array([[1,2,3],\n",
        "              [4,5,6]])\n",
        "\n",
        "print(a)"
      ]
    },
    {
      "cell_type": "code",
      "source": [
        "import numpy as np\n",
        "import matplotlib.pyplot as plt\n",
        "\n",
        "A = np.array([[1,0,0,1,0,0,1],\n",
        "             [0,1,1,0,1,1,0],\n",
        "             [0,1,1,1,1,1,0],\n",
        "             [1,0,1,1,1,0,1],\n",
        "             [1,1,0,1,0,1,1],\n",
        "             [1,1,1,0,1,1,1]])\n",
        "plt.xticks([]),plt.yticks([])\n",
        "plt.imshow(A, cmap='gray')\n",
        "#print(A)"
      ],
      "metadata": {
        "colab": {
          "base_uri": "https://localhost:8080/",
          "height": 425
        },
        "id": "-H5F1X90uAJR",
        "outputId": "68a777ef-4ad6-4f6d-eeab-89b0fa318c3f"
      },
      "execution_count": 17,
      "outputs": [
        {
          "output_type": "execute_result",
          "data": {
            "text/plain": [
              "<matplotlib.image.AxesImage at 0x7f00d1fd2c70>"
            ]
          },
          "metadata": {},
          "execution_count": 17
        },
        {
          "output_type": "display_data",
          "data": {
            "text/plain": [
              "<Figure size 640x480 with 1 Axes>"
            ],
            "image/png": "[encoded data removed]"
          },
          "metadata": {}
        }
      ]
    },
    {
      "cell_type": "markdown",
      "source": [
        "**광원의 세기에 따른 행렬의 이미지 표현**\n",
        "\n",
        "- 흑백이미지를 행렬로 표현할때, 아래의 그림과 같이 각 픽셀에서 검은색은 흰색인 255로 하고, 두 색사이의 회색은 광원의 세기에 따라라 1~255까지의 수로 표현이 가능하다."
      ],
      "metadata": {
        "id": "vxwIs0imzYYM"
      }
    },
    {
      "cell_type": "code",
      "source": [
        "R = np.array([[77,114,140,191],\n",
        "             [39,56,46,191],\n",
        "             [61,29,20,33],\n",
        "             [151,97,43,26]])\n",
        "\n",
        "plt.xticks([]),plt.yticks([])\n",
        "plt.imshow(R, cmap='gray')"
      ],
      "metadata": {
        "colab": {
          "base_uri": "https://localhost:8080/",
          "height": 425
        },
        "id": "uioRlhEEzrIk",
        "outputId": "244cf538-d5a7-4567-a224-9a9ce31a97fa"
      },
      "execution_count": 19,
      "outputs": [
        {
          "output_type": "execute_result",
          "data": {
            "text/plain": [
              "<matplotlib.image.AxesImage at 0x7f00d2254490>"
            ]
          },
          "metadata": {},
          "execution_count": 19
        },
        {
          "output_type": "display_data",
          "data": {
            "text/plain": [
              "<Figure size 640x480 with 1 Axes>"
            ],
            "image/png": "[encoded data removed]"
          },
          "metadata": {}
        }
      ]
    },
    {
      "cell_type": "code",
      "source": [
        "G = np.array([[[66,179,241]]])\n",
        "\n",
        "plt.xticks([]),plt.yticks([])\n",
        "plt.imshow(G)"
      ],
      "metadata": {
        "colab": {
          "base_uri": "https://localhost:8080/",
          "height": 425
        },
        "id": "dP4ip9af2DmQ",
        "outputId": "5e0e9066-c1e7-4507-ca42-8e35160d9d32"
      },
      "execution_count": 20,
      "outputs": [
        {
          "output_type": "execute_result",
          "data": {
            "text/plain": [
              "<matplotlib.image.AxesImage at 0x7f00d1b7c7f0>"
            ]
          },
          "metadata": {},
          "execution_count": 20
        },
        {
          "output_type": "display_data",
          "data": {
            "text/plain": [
              "<Figure size 640x480 with 1 Axes>"
            ],
            "image/png": "[encoded data removed]"
          },
          "metadata": {}
        }
      ]
    },
    {
      "cell_type": "code",
      "source": [
        "r = np.array([[[255,0,0],[255,50,0],[255,255,0],[0,255,0],[0,0,255],[0,5,255],[100,0,255]]])\n",
        "plt.xticks([]),plt.yticks([])\n",
        "plt.imshow(r)"
      ],
      "metadata": {
        "colab": {
          "base_uri": "https://localhost:8080/",
          "height": 126
        },
        "id": "JbBtrwIC4nhD",
        "outputId": "df78b7aa-5b04-4e7b-871b-a12c034700a1"
      },
      "execution_count": 23,
      "outputs": [
        {
          "output_type": "execute_result",
          "data": {
            "text/plain": [
              "<matplotlib.image.AxesImage at 0x7f00bea9b370>"
            ]
          },
          "metadata": {},
          "execution_count": 23
        },
        {
          "output_type": "display_data",
          "data": {
            "text/plain": [
              "<Figure size 640x480 with 1 Axes>"
            ],
            "image/png": "[encoded data removed]"
          },
          "metadata": {}
        }
      ]
    },
    {
      "cell_type": "code",
      "source": [
        "import numpy as np\n",
        "import matplotlib.pyplot as plt\n",
        "\n",
        "g = np.array([[[255,0,0]],\n",
        "               [[255,50,0]],\n",
        "               [[255,255,0]],\n",
        "               [[0,255,0]],\n",
        "               [[0,0,255]],\n",
        "               [[0,5,255]],\n",
        "               [[100,0,255]]])\n",
        "plt.xticks([]),plt.yticks([])\n",
        "plt.imshow(g)"
      ],
      "metadata": {
        "colab": {
          "base_uri": "https://localhost:8080/",
          "height": 425
        },
        "id": "0JP_H-Si5hB1",
        "outputId": "253f25c2-f76d-4fdc-d5b4-136e0b86933c"
      },
      "execution_count": 32,
      "outputs": [
        {
          "output_type": "execute_result",
          "data": {
            "text/plain": [
              "<matplotlib.image.AxesImage at 0x7f00beaa3d90>"
            ]
          },
          "metadata": {},
          "execution_count": 32
        },
        {
          "output_type": "display_data",
          "data": {
            "text/plain": [
              "<Figure size 640x480 with 1 Axes>"
            ],
            "image/png": "[encoded data removed]"
          },
          "metadata": {}
        }
      ]
    },
    {
      "cell_type": "code",
      "source": [
        "import numpy as np\n",
        "import matplotlib.pyplot as plt\n",
        "\n",
        "q = np.array([[0,1,1,1,0],\n",
        "              [1,1,1,1,1],\n",
        "              [0,1,0,0,0]])\n",
        "\n",
        "w = np.array([[0,0,0,0,0],\n",
        "              [0,0,0,0,0],\n",
        "              [0,0,0,1,0]])\n",
        "\n",
        "e = q+w\n",
        "\n",
        "plt.xticks([]), plt.yticks([])\n",
        "plt.imshow(e,cmap='gray')"
      ],
      "metadata": {
        "colab": {
          "base_uri": "https://localhost:8080/",
          "height": 353
        },
        "id": "8Mek7nWR70RN",
        "outputId": "862a62db-217a-41f3-b87a-4be6acf782a4"
      },
      "execution_count": 36,
      "outputs": [
        {
          "output_type": "execute_result",
          "data": {
            "text/plain": [
              "<matplotlib.image.AxesImage at 0x7f00be853b50>"
            ]
          },
          "metadata": {},
          "execution_count": 36
        },
        {
          "output_type": "display_data",
          "data": {
            "text/plain": [
              "<Figure size 640x480 with 1 Axes>"
            ],
            "image/png": "[encoded data removed]"
          },
          "metadata": {}
        }
      ]
    },
    {
      "cell_type": "markdown",
      "source": [
        "**행렬의 곱셈**\n",
        "\n",
        "- 행렬의 곱셉은 k번째 행벡터와 l번째 열백터 사이의 내적을 성분으로 가지는 행렬을 계산합니다.\n",
        "\n",
        "- 따라서 행렬의 곱셈은 X의 열의 개수와 Y의 행의 개수가 같아야 합니다."
      ],
      "metadata": {
        "id": "55uWuw8wDPjj"
      }
    },
    {
      "cell_type": "code",
      "source": [
        "A = np.array([[8,-4],\n",
        "              [-2, 6]])\n",
        "\n",
        "k = 3\n",
        "k1 = 1/2\n",
        "\n",
        "print(k*A)\n",
        "print(k1*A)"
      ],
      "metadata": {
        "colab": {
          "base_uri": "https://localhost:8080/"
        },
        "id": "ThlTkjdoC5If",
        "outputId": "c236d919-5553-4d5a-f9d6-485b3e8519a2"
      },
      "execution_count": 40,
      "outputs": [
        {
          "output_type": "stream",
          "name": "stdout",
          "text": [
            "[[ 24 -12]\n",
            " [ -6  18]]\n",
            "[[ 4. -2.]\n",
            " [-1.  3.]]\n"
          ]
        }
      ]
    },
    {
      "cell_type": "code",
      "source": [
        "import numpy as np\n",
        "import matplotlib.pyplot as plt\n",
        "\n",
        "A = np.array([[120,64,64],\n",
        "              [64,64,120]])\n",
        "\n",
        "B = 1/2 * A\n",
        "C = 2*A\n",
        "\n",
        "\n",
        "plt.xticks([]), plt.yticks([])\n",
        "plt.imshow(C, cmap='gray',vmin=0,vmax=255)"
      ],
      "metadata": {
        "colab": {
          "base_uri": "https://localhost:8080/",
          "height": 386
        },
        "id": "XJA_l6tQDpKl",
        "outputId": "c7cc684e-4ec6-48c9-a1e8-ef760877344a"
      },
      "execution_count": 61,
      "outputs": [
        {
          "output_type": "execute_result",
          "data": {
            "text/plain": [
              "<matplotlib.image.AxesImage at 0x7f00be36bd90>"
            ]
          },
          "metadata": {},
          "execution_count": 61
        },
        {
          "output_type": "display_data",
          "data": {
            "text/plain": [
              "<Figure size 640x480 with 1 Axes>"
            ],
            "image/png": "[encoded data removed]"
          },
          "metadata": {}
        }
      ]
    },
    {
      "cell_type": "code",
      "source": [
        "import numpy as np\n",
        "import matplotlib.pyplot as plt\n",
        "\n",
        "A = np.array([[82,54,82],\n",
        "              [54,54,54]])\n",
        "\n",
        "K = 4\n",
        "\n",
        "\n",
        "plt.xticks([]), plt.yticks([])\n",
        "plt.imshow(K*A, cmap='gray',vmin=0,vmax=255)"
      ],
      "metadata": {
        "colab": {
          "base_uri": "https://localhost:8080/",
          "height": 386
        },
        "id": "kxU3gqgRFidM",
        "outputId": "87fa78e6-baff-4dab-dfd1-511eb21fa43f"
      },
      "execution_count": 67,
      "outputs": [
        {
          "output_type": "execute_result",
          "data": {
            "text/plain": [
              "<matplotlib.image.AxesImage at 0x7f00be18ba00>"
            ]
          },
          "metadata": {},
          "execution_count": 67
        },
        {
          "output_type": "display_data",
          "data": {
            "text/plain": [
              "<Figure size 640x480 with 1 Axes>"
            ],
            "image/png": "[encoded data removed]"
          },
          "metadata": {}
        }
      ]
    },
    {
      "cell_type": "code",
      "source": [
        "import numpy as np\n",
        "import matplotlib.pyplot as plt\n",
        "\n",
        "A = np.array([[1,2,3,4],\n",
        "              [7,8,9,10]])\n",
        "\n",
        "B = np.array([[1],\n",
        "              [2],\n",
        "              [0],\n",
        "              [3]])\n",
        "\n",
        "print(A@B) "
      ],
      "metadata": {
        "colab": {
          "base_uri": "https://localhost:8080/"
        },
        "id": "7EkQASYUI9X8",
        "outputId": "fca5039e-3de1-466c-d98b-c520c32e5b3c"
      },
      "execution_count": 73,
      "outputs": [
        {
          "output_type": "stream",
          "name": "stdout",
          "text": [
            "[[17]\n",
            " [53]]\n"
          ]
        }
      ]
    }
  ]
}