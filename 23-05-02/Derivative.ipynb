{
  "nbformat": 4,
  "nbformat_minor": 0,
  "metadata": {
    "colab": {
      "provenance": [],
      "authorship_tag": "ABX9TyMEH2hYhh5L0e6rphUK3+YE",
      "include_colab_link": true
    },
    "kernelspec": {
      "name": "python3",
      "display_name": "Python 3"
    },
    "language_info": {
      "name": "python"
    }
  },
  "cells": [
    {
      "cell_type": "markdown",
      "metadata": {
        "id": "view-in-github",
        "colab_type": "text"
      },
      "source": [
        "<a href=\"https://colab.research.google.com/github/dlwodud04/ai-mathematics/blob/main/23-05-02/Derivative.ipynb\" target=\"_parent\"><img src=\"https://colab.research.google.com/assets/colab-badge.svg\" alt=\"Open In Colab\"/></a>"
      ]
    },
    {
      "cell_type": "markdown",
      "source": [
        "**함수 f(x)의 미분에 대한 해석**\n",
        "- 입력변수x가 (아주 미세하게) 변할때, 함수f(x)의 변화량을 나타내는 식\n",
        "- 함수f(x)가 입력 값 x의미세한 변화에 얼마나 민감하게 반응하는지 나타내는 식"
      ],
      "metadata": {
        "id": "7Vd5Khd1N7lS"
      }
    },
    {
      "cell_type": "markdown",
      "source": [
        "**편미분에 대한 정의**\n",
        "\n",
        "- 편미분은 입력 변수가 2개 이상인 다변수 함수에서 미분하고자 하는 변수 1개를 제외한 나머지 변수들은 상수로 취급하고, 특정한 한 변수에 대해서만 미분하는\n",
        "것을 의미합니다."
      ],
      "metadata": {
        "id": "R7qS6hk7QuES"
      }
    },
    {
      "cell_type": "code",
      "execution_count": null,
      "metadata": {
        "id": "bIpUtw-tJtFO"
      },
      "outputs": [],
      "source": []
    }
  ]
}