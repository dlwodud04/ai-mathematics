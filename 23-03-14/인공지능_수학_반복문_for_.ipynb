{
  "nbformat": 4,
  "nbformat_minor": 0,
  "metadata": {
    "colab": {
      "provenance": [],
      "authorship_tag": "ABX9TyNUaTQNG9vPnKSJt+HQbEWg",
      "include_colab_link": true
    },
    "kernelspec": {
      "name": "python3",
      "display_name": "Python 3"
    },
    "language_info": {
      "name": "python"
    }
  },
  "cells": [
    {
      "cell_type": "markdown",
      "metadata": {
        "id": "view-in-github",
        "colab_type": "text"
      },
      "source": [
        "<a href=\"https://colab.research.google.com/github/dlwodud04/ai-mathematics/blob/main/23-03-14/%EC%9D%B8%EA%B3%B5%EC%A7%80%EB%8A%A5_%EC%88%98%ED%95%99_%EB%B0%98%EB%B3%B5%EB%AC%B8_for_.ipynb\" target=\"_parent\"><img src=\"https://colab.research.google.com/assets/colab-badge.svg\" alt=\"Open In Colab\"/></a>"
      ]
    },
    {
      "cell_type": "code",
      "execution_count": 1,
      "metadata": {
        "colab": {
          "base_uri": "https://localhost:8080/"
        },
        "id": "Oslgo7gJnmhf",
        "outputId": "2bcb6421-3b71-4e13-9d91-32cee7afffac"
      },
      "outputs": [
        {
          "output_type": "stream",
          "name": "stdout",
          "text": [
            "0 1 2 3 4 5 6 7 8 9 "
          ]
        }
      ],
      "source": [
        "# in range(...) 형태를 사용하는 방식\n",
        "for A in range(10):\n",
        "    print(A, end = \" \")"
      ]
    },
    {
      "cell_type": "code",
      "source": [
        "for A in range(1,10):\n",
        "    print(A, end=\" \")"
      ],
      "metadata": {
        "colab": {
          "base_uri": "https://localhost:8080/"
        },
        "id": "0M3mccHNoBgA",
        "outputId": "884a8878-4d2a-4e1e-aa7e-3aaa4307fd43"
      },
      "execution_count": 2,
      "outputs": [
        {
          "output_type": "stream",
          "name": "stdout",
          "text": [
            "1 2 3 4 5 6 7 8 9 "
          ]
        }
      ]
    },
    {
      "cell_type": "code",
      "source": [
        "for A in range(0, 10, 2):\n",
        "    print(A, end=\" \")"
      ],
      "metadata": {
        "colab": {
          "base_uri": "https://localhost:8080/"
        },
        "id": "t5fqIumXoXw5",
        "outputId": "218ce3f1-e80d-47bb-eeec-a97e3bc760eb"
      },
      "execution_count": 3,
      "outputs": [
        {
          "output_type": "stream",
          "name": "stdout",
          "text": [
            "0 2 4 6 8 "
          ]
        }
      ]
    },
    {
      "cell_type": "code",
      "source": [
        "B = [10,20,30,40,50]\n",
        "\n",
        "for data in B:\n",
        "    print(data, end = \" \")"
      ],
      "metadata": {
        "colab": {
          "base_uri": "https://localhost:8080/"
        },
        "id": "k5DQYrzcoz3-",
        "outputId": "001e439f-2170-48fb-f85d-6351d5002602"
      },
      "execution_count": 6,
      "outputs": [
        {
          "output_type": "stream",
          "name": "stdout",
          "text": [
            "10 20 30 40 50 "
          ]
        }
      ]
    },
    {
      "cell_type": "code",
      "source": [
        "C = {'key1' : 1, 'key2' : 2}\n",
        "\n",
        "for data in C:\n",
        "    print(data, end=\" \")"
      ],
      "metadata": {
        "colab": {
          "base_uri": "https://localhost:8080/"
        },
        "id": "juhlXYIBpOMX",
        "outputId": "5509da5b-e917-4b6d-fd41-33199e651499"
      },
      "execution_count": 7,
      "outputs": [
        {
          "output_type": "stream",
          "name": "stdout",
          "text": [
            "key1 key2 "
          ]
        }
      ]
    },
    {
      "cell_type": "code",
      "source": [
        "for data, value in C.items():\n",
        "    print(data, end=\" \")"
      ],
      "metadata": {
        "colab": {
          "base_uri": "https://localhost:8080/"
        },
        "id": "rvAumiFIpXj3",
        "outputId": "4f52ed29-d646-4fd8-827c-f97bf4e987aa"
      },
      "execution_count": 8,
      "outputs": [
        {
          "output_type": "stream",
          "name": "stdout",
          "text": [
            "key1 key2 "
          ]
        }
      ]
    },
    {
      "cell_type": "code",
      "source": [],
      "metadata": {
        "id": "K2AY4hqbqrFT"
      },
      "execution_count": null,
      "outputs": []
    }
  ]
}