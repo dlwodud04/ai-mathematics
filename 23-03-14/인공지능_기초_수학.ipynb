{
  "nbformat": 4,
  "nbformat_minor": 0,
  "metadata": {
    "colab": {
      "provenance": [],
      "authorship_tag": "ABX9TyMX1kq6ZeCKsGYc/4C3Vd7v",
      "include_colab_link": true
    },
    "kernelspec": {
      "name": "python3",
      "display_name": "Python 3"
    },
    "language_info": {
      "name": "python"
    }
  },
  "cells": [
    {
      "cell_type": "markdown",
      "metadata": {
        "id": "view-in-github",
        "colab_type": "text"
      },
      "source": [
        "<a href=\"https://colab.research.google.com/github/dlwodud04/ai-mathematics/blob/main/23-03-14/%EC%9D%B8%EA%B3%B5%EC%A7%80%EB%8A%A5_%EA%B8%B0%EC%B4%88_%EC%88%98%ED%95%99.ipynb\" target=\"_parent\"><img src=\"https://colab.research.google.com/assets/colab-badge.svg\" alt=\"Open In Colab\"/></a>"
      ]
    },
    {
      "cell_type": "code",
      "execution_count": 1,
      "metadata": {
        "colab": {
          "base_uri": "https://localhost:8080/"
        },
        "id": "JW77xDSN4iyS",
        "outputId": "1aefef46-80cb-4711-9048-535934a9f145"
      },
      "outputs": [
        {
          "output_type": "stream",
          "name": "stdout",
          "text": [
            "3\n"
          ]
        }
      ],
      "source": [
        "x = 3 # x변수에 3 값을 저장\n",
        "\n",
        "print(x)"
      ]
    },
    {
      "cell_type": "code",
      "source": [
        "x = 2,3,4, # x,y,z 변수에 2,3,4 값을 각각 저장\n",
        "print(x)"
      ],
      "metadata": {
        "colab": {
          "base_uri": "https://localhost:8080/"
        },
        "id": "uNO8EHBm4t_r",
        "outputId": "4644eeaf-ef30-4933-a5f8-fa8b4f01227e"
      },
      "execution_count": 2,
      "outputs": [
        {
          "output_type": "stream",
          "name": "stdout",
          "text": [
            "(2, 3, 4)\n"
          ]
        }
      ]
    },
    {
      "cell_type": "markdown",
      "source": [
        "- 수식\n"
      ],
      "metadata": {
        "id": "CTzpTxnI97jd"
      }
    },
    {
      "cell_type": "code",
      "source": [
        "a =1 \n",
        "b = 2"
      ],
      "metadata": {
        "id": "HBGaLsfl9xuP"
      },
      "execution_count": 11,
      "outputs": []
    },
    {
      "cell_type": "code",
      "source": [
        "a + b"
      ],
      "metadata": {
        "colab": {
          "base_uri": "https://localhost:8080/"
        },
        "id": "yHpThDVV9zBg",
        "outputId": "602e2c8d-88e6-4bab-9dc0-72375c4e6de2"
      },
      "execution_count": 12,
      "outputs": [
        {
          "output_type": "execute_result",
          "data": {
            "text/plain": [
              "3"
            ]
          },
          "metadata": {},
          "execution_count": 12
        }
      ]
    },
    {
      "cell_type": "code",
      "source": [
        "a-b"
      ],
      "metadata": {
        "colab": {
          "base_uri": "https://localhost:8080/"
        },
        "id": "ZY0_8pxu90ai",
        "outputId": "e5b62f0a-ebd1-45f4-dc1c-0ce7e96be668"
      },
      "execution_count": 13,
      "outputs": [
        {
          "output_type": "execute_result",
          "data": {
            "text/plain": [
              "-1"
            ]
          },
          "metadata": {},
          "execution_count": 13
        }
      ]
    },
    {
      "cell_type": "code",
      "source": [
        "a * b"
      ],
      "metadata": {
        "colab": {
          "base_uri": "https://localhost:8080/"
        },
        "id": "y9PdTsst91Sn",
        "outputId": "9b2006de-192a-4226-abd8-fdfb53776af8"
      },
      "execution_count": 14,
      "outputs": [
        {
          "output_type": "execute_result",
          "data": {
            "text/plain": [
              "2"
            ]
          },
          "metadata": {},
          "execution_count": 14
        }
      ]
    },
    {
      "cell_type": "code",
      "source": [
        "a / b"
      ],
      "metadata": {
        "colab": {
          "base_uri": "https://localhost:8080/"
        },
        "id": "ep39tHJm92Q8",
        "outputId": "23cd7b7e-1d5d-408d-ac5e-f9a3e82b36df"
      },
      "execution_count": 15,
      "outputs": [
        {
          "output_type": "execute_result",
          "data": {
            "text/plain": [
              "0.5"
            ]
          },
          "metadata": {},
          "execution_count": 15
        }
      ]
    },
    {
      "cell_type": "code",
      "source": [
        "a % b"
      ],
      "metadata": {
        "colab": {
          "base_uri": "https://localhost:8080/"
        },
        "id": "hykX9-U493TD",
        "outputId": "d2b64cb8-41d8-4ce3-a75f-e724f0af7dfc"
      },
      "execution_count": 16,
      "outputs": [
        {
          "output_type": "execute_result",
          "data": {
            "text/plain": [
              "1"
            ]
          },
          "metadata": {},
          "execution_count": 16
        }
      ]
    },
    {
      "cell_type": "code",
      "source": [
        "a // b"
      ],
      "metadata": {
        "colab": {
          "base_uri": "https://localhost:8080/"
        },
        "id": "Lx8LqNkq95dW",
        "outputId": "a5a49c07-f5b8-4f65-ee18-f64b6cc03f30"
      },
      "execution_count": 17,
      "outputs": [
        {
          "output_type": "execute_result",
          "data": {
            "text/plain": [
              "0"
            ]
          },
          "metadata": {},
          "execution_count": 17
        }
      ]
    },
    {
      "cell_type": "markdown",
      "source": [
        "- 방정식\n"
      ],
      "metadata": {
        "id": "O39ARIha5zPP"
      }
    },
    {
      "cell_type": "code",
      "source": [
        "from sympy import Symbol,solve # SymPy 라이브러리 불러오기\n",
        "x = Symbol('x') # 사용할 기호변수 x를 선언\n",
        "\n",
        "equation = 2 * x - 6 # 방정식을 풀려면 \"(일차방정식) = 0\" 형태로 만들어주어야함,\n",
        "\n",
        "solve(equation) # 방정식을 풀려면 SymPy에 내장된 solve() 함수를 사용용\n"
      ],
      "metadata": {
        "colab": {
          "base_uri": "https://localhost:8080/"
        },
        "id": "8ogpjPoV4t-S",
        "outputId": "13fa52d6-5e57-4258-8a88-f6dcf7a18254"
      },
      "execution_count": 3,
      "outputs": [
        {
          "output_type": "execute_result",
          "data": {
            "text/plain": [
              "[3]"
            ]
          },
          "metadata": {},
          "execution_count": 3
        }
      ]
    },
    {
      "cell_type": "code",
      "source": [
        "equation = x-2-4\n",
        "solve(equation)"
      ],
      "metadata": {
        "colab": {
          "base_uri": "https://localhost:8080/"
        },
        "id": "DdT9Wx-K67cI",
        "outputId": "23c77642-23d5-4f7e-f4d1-3d0694cc4844"
      },
      "execution_count": 9,
      "outputs": [
        {
          "output_type": "execute_result",
          "data": {
            "text/plain": [
              "[6]"
            ]
          },
          "metadata": {},
          "execution_count": 9
        }
      ]
    },
    {
      "cell_type": "code",
      "source": [
        "equation = 2*x-10\n",
        "solve(equation)"
      ],
      "metadata": {
        "colab": {
          "base_uri": "https://localhost:8080/"
        },
        "id": "j7MEeNI37FF5",
        "outputId": "182c6b58-5803-494a-de1e-f0b5e34ba0cf"
      },
      "execution_count": 5,
      "outputs": [
        {
          "output_type": "execute_result",
          "data": {
            "text/plain": [
              "[5]"
            ]
          },
          "metadata": {},
          "execution_count": 5
        }
      ]
    },
    {
      "cell_type": "code",
      "source": [
        "equation = x/2-8\n",
        "solve(equation)"
      ],
      "metadata": {
        "colab": {
          "base_uri": "https://localhost:8080/"
        },
        "id": "r8F4BDDP7FxZ",
        "outputId": "ffd8f336-42e5-469e-f36d-7b85217ebb59"
      },
      "execution_count": 7,
      "outputs": [
        {
          "output_type": "execute_result",
          "data": {
            "text/plain": [
              "[16]"
            ]
          },
          "metadata": {},
          "execution_count": 7
        }
      ]
    },
    {
      "cell_type": "markdown",
      "source": [
        "- 연립방정식\n"
      ],
      "metadata": {
        "id": "5cohtgR282Qp"
      }
    },
    {
      "cell_type": "code",
      "source": [
        "from sympy import Symbol,solve\n",
        "x = Symbol('x')\n",
        "y = Symbol('y')\n",
        "\n",
        "equation1 = 3 * x + y - 2\n",
        "equation2 = x - 2 * y - 3\n",
        "\n",
        "solve((equation1, equation2), dict = True) # dict 옵션은 해를 딕셔너리 형태로 변환"
      ],
      "metadata": {
        "colab": {
          "base_uri": "https://localhost:8080/"
        },
        "id": "la_fmaDK8FM3",
        "outputId": "6016757f-45fb-400a-81ea-6e56dba9ff67"
      },
      "execution_count": 8,
      "outputs": [
        {
          "output_type": "execute_result",
          "data": {
            "text/plain": [
              "[{x: 1, y: -1}]"
            ]
          },
          "metadata": {},
          "execution_count": 8
        }
      ]
    }
  ]
}