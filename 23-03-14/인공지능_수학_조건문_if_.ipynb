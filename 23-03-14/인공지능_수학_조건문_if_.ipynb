{
  "nbformat": 4,
  "nbformat_minor": 0,
  "metadata": {
    "colab": {
      "provenance": [],
      "authorship_tag": "ABX9TyNvwIy1gHqXSN0ZLkY2qAkO",
      "include_colab_link": true
    },
    "kernelspec": {
      "name": "python3",
      "display_name": "Python 3"
    },
    "language_info": {
      "name": "python"
    }
  },
  "cells": [
    {
      "cell_type": "markdown",
      "metadata": {
        "id": "view-in-github",
        "colab_type": "text"
      },
      "source": [
        "<a href=\"https://colab.research.google.com/github/dlwodud04/ai-mathematics/blob/main/23-03-14/%EC%9D%B8%EA%B3%B5%EC%A7%80%EB%8A%A5_%EC%88%98%ED%95%99_%EC%A1%B0%EA%B1%B4%EB%AC%B8_if_.ipynb\" target=\"_parent\"><img src=\"https://colab.research.google.com/assets/colab-badge.svg\" alt=\"Open In Colab\"/></a>"
      ]
    },
    {
      "cell_type": "code",
      "execution_count": 1,
      "metadata": {
        "colab": {
          "base_uri": "https://localhost:8080/"
        },
        "id": "8YSKIxSxim03",
        "outputId": "95c5f006-4d15-482e-cc31-1a31e7dd4292"
      },
      "outputs": [
        {
          "output_type": "stream",
          "name": "stdout",
          "text": [
            "-2\n",
            "음의 정수\n"
          ]
        }
      ],
      "source": [
        "# if condition\n",
        "\n",
        "a = -2\n",
        "\n",
        "if a > 0:\n",
        "    print(a)\n",
        "    print(\"양의 정수\")\n",
        "elif a == 0 :\n",
        "    print(a)\n",
        "    print(\"영\")\n",
        "else:\n",
        "    print(a)\n",
        "    print(\"음의 정수\")"
      ]
    },
    {
      "cell_type": "code",
      "source": [
        "# if condition i list or dict.....:\n",
        "A = [10,20,30,40,50,60]\n",
        "\n",
        "if 35 in A :\n",
        "    print(\"35는 A에 포함되어 있다.\")\n",
        "else : \n",
        "    print(\"35는 A에 포함되어 있지 않다.\")\n"
      ],
      "metadata": {
        "colab": {
          "base_uri": "https://localhost:8080/"
        },
        "id": "lJ0KKNu5jKE-",
        "outputId": "b20a78a6-41fd-4148-a088-fc8e7e0301d3"
      },
      "execution_count": 2,
      "outputs": [
        {
          "output_type": "stream",
          "name": "stdout",
          "text": [
            "35는 A에 포함되어 있지 않다.\n"
          ]
        }
      ]
    },
    {
      "cell_type": "code",
      "source": [
        "B = {'key1' : 0, 'key2' : 1}\n",
        "\n",
        "if 'key3' in B :\n",
        "    print(\"key3은 B에 포함되어 있다\")\n",
        "else:\n",
        "    print(\"key3은 B에 포함되어 있지 않다\")"
      ],
      "metadata": {
        "colab": {
          "base_uri": "https://localhost:8080/"
        },
        "id": "jP56ZPCDm7bq",
        "outputId": "f0241974-6a8e-46c0-ac11-9ab8b4725450"
      },
      "execution_count": 3,
      "outputs": [
        {
          "output_type": "stream",
          "name": "stdout",
          "text": [
            "key3은 B에 포함되어 있지 않다\n"
          ]
        }
      ]
    }
  ]
}