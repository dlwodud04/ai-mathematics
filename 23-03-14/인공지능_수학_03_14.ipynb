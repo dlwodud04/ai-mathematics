{
  "nbformat": 4,
  "nbformat_minor": 0,
  "metadata": {
    "colab": {
      "provenance": [],
      "authorship_tag": "ABX9TyOyWXNrFKBKd57DuJl2eAGN",
      "include_colab_link": true
    },
    "kernelspec": {
      "name": "python3",
      "display_name": "Python 3"
    },
    "language_info": {
      "name": "python"
    }
  },
  "cells": [
    {
      "cell_type": "markdown",
      "metadata": {
        "id": "view-in-github",
        "colab_type": "text"
      },
      "source": [
        "<a href=\"https://colab.research.google.com/github/dlwodud04/ai-mathematics/blob/main/23-03-14/%EC%9D%B8%EA%B3%B5%EC%A7%80%EB%8A%A5_%EC%88%98%ED%95%99_03_14.ipynb\" target=\"_parent\"><img src=\"https://colab.research.google.com/assets/colab-badge.svg\" alt=\"Open In Colab\"/></a>"
      ]
    },
    {
      "cell_type": "code",
      "execution_count": 2,
      "metadata": {
        "colab": {
          "base_uri": "https://localhost:8080/"
        },
        "id": "Topbgpn3ay_a",
        "outputId": "802a087e-c159-4c79-caf1-dc3ba6df5d01"
      },
      "outputs": [
        {
          "output_type": "stream",
          "name": "stdout",
          "text": [
            "20 40 60 80 100\n",
            "100 80 60 40 20\n"
          ]
        }
      ],
      "source": [
        "# Data type-list\n",
        "\n",
        "a = [20,40,60,80,100]\n",
        "\n",
        "print(a[0],a[1],a[2],a[3],a[4])\n",
        "print(a[-1],a[-2],a[-3],a[-4],a[-5])"
      ]
    },
    {
      "cell_type": "code",
      "source": [
        "b = [90,94,\"A\",[True,False]]\n",
        "print(b[0],b[1],b[2],b[3])\n",
        "print(b[-1],b[-2],b[-3],b[-4])\n",
        "print(b[3][0], b[3][1])\n",
        "print(b[-1][-1], b[-1][-2])"
      ],
      "metadata": {
        "colab": {
          "base_uri": "https://localhost:8080/"
        },
        "id": "FTyu0UKqbgqr",
        "outputId": "d5f7154c-d68f-4bc3-d9fd-847fe6544fb0"
      },
      "execution_count": 3,
      "outputs": [
        {
          "output_type": "stream",
          "name": "stdout",
          "text": [
            "90 94 A [True, False]\n",
            "[True, False] A 94 90\n",
            "True False\n",
            "False True\n"
          ]
        }
      ]
    },
    {
      "cell_type": "code",
      "source": [
        "c = []\n",
        "c.append(60), c.append(80), c.append(100)\n",
        "print(c)"
      ],
      "metadata": {
        "colab": {
          "base_uri": "https://localhost:8080/"
        },
        "id": "CqZ71V3XcTj5",
        "outputId": "360d079e-5bb7-4ab3-ddcf-2a212e36decc"
      },
      "execution_count": 4,
      "outputs": [
        {
          "output_type": "stream",
          "name": "stdout",
          "text": [
            "[60, 80, 100]\n"
          ]
        }
      ]
    },
    {
      "cell_type": "code",
      "source": [
        "# Datatype-list-Slicing\n",
        "A = [60,70,80,90,100]\n",
        "\n",
        "print(A[0:2], A[1:])\n",
        "print(A[:3],A[:-2])\n",
        "print(A[:])"
      ],
      "metadata": {
        "colab": {
          "base_uri": "https://localhost:8080/"
        },
        "id": "84rmPNpac8-7",
        "outputId": "58de3d0c-9fd0-4efe-e8de-04524922699b"
      },
      "execution_count": 8,
      "outputs": [
        {
          "output_type": "stream",
          "name": "stdout",
          "text": [
            "[60, 70] [70, 80, 90, 100]\n",
            "[60, 70, 80] [60, 70, 80]\n",
            "[60, 70, 80, 90, 100]\n"
          ]
        }
      ]
    },
    {
      "cell_type": "code",
      "source": [
        "# Datatype-Tuple\n",
        "\n",
        "A = (20,40,60,80,100)\n",
        "\n",
        "print(A[0],A[-1],A[:])"
      ],
      "metadata": {
        "colab": {
          "base_uri": "https://localhost:8080/"
        },
        "id": "BF47r64dd2Ee",
        "outputId": "c4a3a90d-06f4-4134-853d-d270413f02f4"
      },
      "execution_count": 9,
      "outputs": [
        {
          "output_type": "stream",
          "name": "stdout",
          "text": [
            "20 100 (20, 40, 60, 80, 100)\n"
          ]
        }
      ]
    },
    {
      "cell_type": "code",
      "source": [
        "# Datatype-Tuple-Slicing\n",
        "\n",
        "A = (20,40,60,80,100)\n",
        "\n",
        "print(A[0:3],A[2:])"
      ],
      "metadata": {
        "colab": {
          "base_uri": "https://localhost:8080/"
        },
        "id": "C_62KyM6ecb8",
        "outputId": "432498d6-23b7-4753-ae1c-a461c54e1a35"
      },
      "execution_count": 10,
      "outputs": [
        {
          "output_type": "stream",
          "name": "stdout",
          "text": [
            "(20, 40, 60) (60, 80, 100)\n"
          ]
        }
      ]
    },
    {
      "cell_type": "code",
      "source": [
        "score = {\"Kim\" : 90, \"Lee\" : 85, \"Oh\" : 95}\n",
        "print(score[\"Oh\"])"
      ],
      "metadata": {
        "colab": {
          "base_uri": "https://localhost:8080/"
        },
        "id": "nHWPzVU6eqZo",
        "outputId": "059ffdf6-b587-4dc2-f365-f8e0667155b6"
      },
      "execution_count": 14,
      "outputs": [
        {
          "output_type": "stream",
          "name": "stdout",
          "text": [
            "95\n"
          ]
        }
      ]
    },
    {
      "cell_type": "code",
      "source": [],
      "metadata": {
        "id": "G1S_P0blgRm8"
      },
      "execution_count": null,
      "outputs": []
    }
  ]
}