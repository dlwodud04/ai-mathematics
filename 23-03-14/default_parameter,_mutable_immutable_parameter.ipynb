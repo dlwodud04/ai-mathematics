{
  "nbformat": 4,
  "nbformat_minor": 0,
  "metadata": {
    "colab": {
      "provenance": [],
      "authorship_tag": "ABX9TyP93WDh/VOhmc3uza+99JNR",
      "include_colab_link": true
    },
    "kernelspec": {
      "name": "python3",
      "display_name": "Python 3"
    },
    "language_info": {
      "name": "python"
    }
  },
  "cells": [
    {
      "cell_type": "markdown",
      "metadata": {
        "id": "view-in-github",
        "colab_type": "text"
      },
      "source": [
        "<a href=\"https://colab.research.google.com/github/dlwodud04/ai-mathematics/blob/main/23-03-14/default_parameter%2C_mutable_immutable_parameter.ipynb\" target=\"_parent\"><img src=\"https://colab.research.google.com/assets/colab-badge.svg\" alt=\"Open In Colab\"/></a>"
      ]
    },
    {
      "cell_type": "code",
      "execution_count": 3,
      "metadata": {
        "colab": {
          "base_uri": "https://localhost:8080/"
        },
        "id": "ELeNz9AcwfKE",
        "outputId": "9738f750-dd4d-49fa-c372-c4f0d2bf22f6"
      },
      "outputs": [
        {
          "output_type": "stream",
          "name": "stdout",
          "text": [
            "Dave\n",
            "Dave\n"
          ]
        }
      ],
      "source": [
        "# defalut parameter\n",
        "\n",
        "def A(name, count=2):\n",
        "\n",
        "    for i in range(count):\n",
        "        print(name)\n",
        "\n",
        "A(\"Dave\",2)"
      ]
    },
    {
      "cell_type": "code",
      "source": [
        "# mutable / immutable parameter\n",
        "\n",
        "def B (int_x, list1):\n",
        "    int_x += 1\n",
        "    list1.append(10)\n",
        "\n",
        "x = 1\n",
        "list2 = [1,2,3]\n",
        "\n",
        "B(x,list2)\n",
        "\n",
        "print(x,list2)"
      ],
      "metadata": {
        "colab": {
          "base_uri": "https://localhost:8080/"
        },
        "id": "X8p3PMPY0OvT",
        "outputId": "123a49d0-324e-49a5-d3ca-b27ddb429b9c"
      },
      "execution_count": 4,
      "outputs": [
        {
          "output_type": "stream",
          "name": "stdout",
          "text": [
            "1 [1, 2, 3, 10]\n"
          ]
        }
      ]
    },
    {
      "cell_type": "code",
      "source": [],
      "metadata": {
        "id": "murOy3bt1Oi3"
      },
      "execution_count": null,
      "outputs": []
    }
  ]
}