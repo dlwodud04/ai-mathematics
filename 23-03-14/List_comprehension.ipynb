{
  "nbformat": 4,
  "nbformat_minor": 0,
  "metadata": {
    "colab": {
      "provenance": [],
      "authorship_tag": "ABX9TyPW6CDnjhmPlNtCjBy8zNVJ",
      "include_colab_link": true
    },
    "kernelspec": {
      "name": "python3",
      "display_name": "Python 3"
    },
    "language_info": {
      "name": "python"
    }
  },
  "cells": [
    {
      "cell_type": "markdown",
      "metadata": {
        "id": "view-in-github",
        "colab_type": "text"
      },
      "source": [
        "<a href=\"https://colab.research.google.com/github/dlwodud04/ai-mathematics/blob/main/23-03-14/List_comprehension.ipynb\" target=\"_parent\"><img src=\"https://colab.research.google.com/assets/colab-badge.svg\" alt=\"Open In Colab\"/></a>"
      ]
    },
    {
      "cell_type": "code",
      "source": [
        "A = [x**2 for x in range(5)]\n",
        "print(A)"
      ],
      "metadata": {
        "colab": {
          "base_uri": "https://localhost:8080/"
        },
        "id": "ayJmqeO9q8KM",
        "outputId": "d37d049a-8fee-4bbb-c2a4-6ff847f1a855"
      },
      "execution_count": 1,
      "outputs": [
        {
          "output_type": "stream",
          "name": "stdout",
          "text": [
            "[0, 1, 4, 9, 16]\n"
          ]
        }
      ]
    },
    {
      "cell_type": "code",
      "source": [
        "B = [1,2,3,4,5]\n",
        "\n",
        "C = [x*x for x in B]\n",
        "\n",
        "print(C)"
      ],
      "metadata": {
        "colab": {
          "base_uri": "https://localhost:8080/"
        },
        "id": "YEfiCOqIrPOF",
        "outputId": "eab1bc22-aa6d-47ca-c48b-d0e7e66277e8"
      },
      "execution_count": 2,
      "outputs": [
        {
          "output_type": "stream",
          "name": "stdout",
          "text": [
            "[1, 4, 9, 16, 25]\n"
          ]
        }
      ]
    },
    {
      "cell_type": "code",
      "source": [
        "D = [[1,10],[2,20],[3,30],[4,40]]\n",
        "\n",
        "E = [x for x in D]\n",
        "\n",
        "print(E)"
      ],
      "metadata": {
        "colab": {
          "base_uri": "https://localhost:8080/"
        },
        "id": "87x430Nzrjfe",
        "outputId": "3e74c2eb-7e4a-4bbc-8b4e-fc8a09a5b1bd"
      },
      "execution_count": 3,
      "outputs": [
        {
          "output_type": "stream",
          "name": "stdout",
          "text": [
            "[[1, 10], [2, 20], [3, 30], [4, 40]]\n"
          ]
        }
      ]
    },
    {
      "cell_type": "code",
      "source": [
        "F = [x[0] for x in D]\n",
        "print(F)"
      ],
      "metadata": {
        "colab": {
          "base_uri": "https://localhost:8080/"
        },
        "id": "5X0fiTxNr4ta",
        "outputId": "1fbe3aa9-754c-4d3f-c8c6-b066e37382ad"
      },
      "execution_count": 4,
      "outputs": [
        {
          "output_type": "stream",
          "name": "stdout",
          "text": [
            "[1, 2, 3, 4]\n"
          ]
        }
      ]
    },
    {
      "cell_type": "code",
      "source": [
        "G = [x[1] for x in D]\n",
        "print(G)"
      ],
      "metadata": {
        "colab": {
          "base_uri": "https://localhost:8080/"
        },
        "id": "vG_a8ifOsAy2",
        "outputId": "9d92a0b7-540d-4a8c-883b-a85fe6a13bbb"
      },
      "execution_count": 5,
      "outputs": [
        {
          "output_type": "stream",
          "name": "stdout",
          "text": [
            "[10, 20, 30, 40]\n"
          ]
        }
      ]
    }
  ]
}