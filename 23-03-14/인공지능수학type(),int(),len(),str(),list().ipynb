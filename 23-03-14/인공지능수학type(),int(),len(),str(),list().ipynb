{
  "nbformat": 4,
  "nbformat_minor": 0,
  "metadata": {
    "colab": {
      "provenance": [],
      "authorship_tag": "ABX9TyOeVUGL0EYlSRDYzXKNERMW",
      "include_colab_link": true
    },
    "kernelspec": {
      "name": "python3",
      "display_name": "Python 3"
    },
    "language_info": {
      "name": "python"
    }
  },
  "cells": [
    {
      "cell_type": "markdown",
      "metadata": {
        "id": "view-in-github",
        "colab_type": "text"
      },
      "source": [
        "<a href=\"https://colab.research.google.com/github/dlwodud04/ai-mathematics/blob/main/23-03-14/%EC%9D%B8%EA%B3%B5%EC%A7%80%EB%8A%A5%EC%88%98%ED%95%99type()%2Cint()%2Clen()%2Cstr()%2Clist().ipynb\" target=\"_parent\"><img src=\"https://colab.research.google.com/assets/colab-badge.svg\" alt=\"Open In Colab\"/></a>"
      ]
    },
    {
      "cell_type": "code",
      "execution_count": 1,
      "metadata": {
        "colab": {
          "base_uri": "https://localhost:8080/"
        },
        "id": "fokMNNm5g3Dm",
        "outputId": "bd4dc090-d0db-40ba-c546-0e8e4b6c5a35"
      },
      "outputs": [
        {
          "output_type": "stream",
          "name": "stdout",
          "text": [
            "<class 'list'> <class 'tuple'> <class 'dict'> <class 'str'>\n",
            "3 3 2 12\n"
          ]
        }
      ],
      "source": [
        "a = [10,20,30]\n",
        "b = (10,20,30)\n",
        "c = {\"Kim\" : 10, \"Lee\" : 20}\n",
        "d = 'Korea, Japan'\n",
        "\n",
        "print(type(a), type(b), type(c), type(d))\n",
        "\n",
        "print(len(a),len(b),len(c),len(d))"
      ]
    },
    {
      "cell_type": "code",
      "source": [
        "a = (10,20,30,40,50)\n",
        "print(list(a))\n",
        "\n",
        "b = 'AI'\n",
        "print(list(b))"
      ],
      "metadata": {
        "colab": {
          "base_uri": "https://localhost:8080/"
        },
        "id": "NWReJEm2hlFd",
        "outputId": "e3c12b08-3b84-4bfb-bd91-bd1d51c5f2be"
      },
      "execution_count": 2,
      "outputs": [
        {
          "output_type": "stream",
          "name": "stdout",
          "text": [
            "[10, 20, 30, 40, 50]\n",
            "['A', 'I']\n"
          ]
        }
      ]
    },
    {
      "cell_type": "code",
      "source": [
        "int(1.5)"
      ],
      "metadata": {
        "colab": {
          "base_uri": "https://localhost:8080/"
        },
        "id": "Q_TLaHkIh3Ny",
        "outputId": "cfe6011e-bb56-40b5-bc59-4c6493106e4e"
      },
      "execution_count": 6,
      "outputs": [
        {
          "output_type": "execute_result",
          "data": {
            "text/plain": [
              "1"
            ]
          },
          "metadata": {},
          "execution_count": 6
        }
      ]
    },
    {
      "cell_type": "code",
      "source": [],
      "metadata": {
        "id": "nfS7X4iYiYvp"
      },
      "execution_count": null,
      "outputs": []
    }
  ]
}