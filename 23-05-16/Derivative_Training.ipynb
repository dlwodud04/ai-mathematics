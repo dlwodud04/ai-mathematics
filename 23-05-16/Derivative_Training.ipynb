{
  "nbformat": 4,
  "nbformat_minor": 0,
  "metadata": {
    "colab": {
      "provenance": [],
      "authorship_tag": "ABX9TyMGF6yStYGaNI63sc6nkdJL",
      "include_colab_link": true
    },
    "kernelspec": {
      "name": "python3",
      "display_name": "Python 3"
    },
    "language_info": {
      "name": "python"
    }
  },
  "cells": [
    {
      "cell_type": "markdown",
      "metadata": {
        "id": "view-in-github",
        "colab_type": "text"
      },
      "source": [
        "<a href=\"https://colab.research.google.com/github/dlwodud04/ai-mathematics/blob/main/23-05-16/Derivative_Training.ipynb\" target=\"_parent\"><img src=\"https://colab.research.google.com/assets/colab-badge.svg\" alt=\"Open In Colab\"/></a>"
      ]
    },
    {
      "cell_type": "markdown",
      "source": [
        "**함수 f(x)의 미분에 대한 해석**\n",
        "- 입력변수x가 (아주 미세하게) 변할때, 함수f(x)의 변화량을 나타내는 식\n",
        "- 함수f(x)가 입력 값 x의미세한 변화에 얼마나 민감하게 반응하는지 나타내는 식"
      ],
      "metadata": {
        "id": "7Vd5Khd1N7lS"
      }
    },
    {
      "cell_type": "markdown",
      "source": [
        "**편미분에 대한 정의**\n",
        "\n",
        "- 편미분은 입력 변수가 2개 이상인 다변수 함수에서 미분하고자 하는 변수 1개를 제외한 나머지 변수들은 상수로 취급하고, 특정한 한 변수에 대해서만 미분하는\n",
        "것을 의미합니다."
      ],
      "metadata": {
        "id": "R7qS6hk7QuES"
      }
    },
    {
      "cell_type": "markdown",
      "source": [
        "**체인룰**\n",
        "- 체인룰이란 합성함수를 미분하기 우해 사용한 방식입니다\n",
        "- 합성함수란 여러 함수로 구성된 함수\n",
        "- 합성함수를 미분하기 위해서 '합성함수를 구성하는 각 함수의 미분의 곱'으로 나타내는 체인룰을 이용합니다.\n"
      ],
      "metadata": {
        "id": "ntgzwH7iAsX_"
      }
    },
    {
      "cell_type": "markdown",
      "source": [
        "**수치미분**\n",
        "- 수수치미분(Numerical Derivative)이란 C언어나 파이썬 등의 프로그래밍 언어를 이용하여 미분 값, \n",
        "즉 입력 값이 아주 미세하게 변할 때 함수𝑓는 얼마나 변하는지 계산하는 것을 의미\n",
        "합니다\n"
      ],
      "metadata": {
        "id": "400BpdJkJ1hx"
      }
    },
    {
      "cell_type": "markdown",
      "source": [
        "**다변수 함수의 수치미분**\n",
        "- 입력 변수가 2개 이상인 다변수 함수의 경우 각각의 입력 변수는 서로 독립적이기 때문에 수치미분 또한 각각의 변수만큼 개별적으로 계산해야 합니다.\n"
      ],
      "metadata": {
        "id": "6Mm4AeMpQPLE"
      }
    },
    {
      "cell_type": "markdown",
      "source": [
        "**np.zero와 np.zeros_like**\n",
        "- np.zero는 0으로 이루어진 array를 출력합니다. 해당 array에는 tuple 또는 int 또는 list의 값이 포함되어 있어야 합니다. 그러면 해당하는 shape의 array로 반환합니다.\n",
        "- np.zero_like는 어떤 변수만큼의 사이즈인 0으로 이루어진 array를 출력합니다. 여기에는 변수가 들어와야 합니다. 변수 외에 [2, 3, 3]가 같이 parameter로 넣어주어도 되며, 단, 2, 3, 3 shape를 가진 array를 가지고 나오는 것이 아니 [0, 0 ,0]이 numpy array가 출력됩니다\n"
      ],
      "metadata": {
        "id": "0ZbtHriKR0z8"
      }
    },
    {
      "cell_type": "markdown",
      "source": [
        "**numpy iterator**\n",
        "- 인덱싱이나 슬라이싱과 같이 행렬의 원소를 하나씩 가져오는 방법 외에 행렬의 모든 원소를 처음부터 끝까지 하나씩 가져오기 위해서는 이터레이터의 방법을 가장 많이 사용합니다.\n",
        "- numpy에서의 이터레이터는 C++, Java에서의 이터레이터 처럼 next 메서드를 통해서 데이터의 처음부터 끝까지 순차적으로 읽어들이는 방법을 제공하고 있습니다."
      ],
      "metadata": {
        "id": "f945sSa-SMDf"
      }
    },
    {
      "cell_type": "code",
      "execution_count": 1,
      "metadata": {
        "id": "bIpUtw-tJtFO",
        "colab": {
          "base_uri": "https://localhost:8080/"
        },
        "outputId": "6a8ea38f-037d-44c4-c739-eaf8b325ae49"
      },
      "outputs": [
        {
          "output_type": "stream",
          "name": "stdout",
          "text": [
            "6.000000000039306\n"
          ]
        }
      ],
      "source": [
        "# 함수 𝑓 𝑥 = 𝑥²미분계수 𝑓^t(3.0) 계산 실습\n",
        "\n",
        "import numpy as np\n",
        "# 미분 공식 구현\n",
        "def numerical_derivative(f,x):\n",
        "    delta = 1e-5\n",
        "    diff_x = (f(x+delta) - f(x-delta)) / (2*delta)\n",
        "    return diff_x\n",
        "\n",
        "# 미분 대상 함수\n",
        "def func1(x):\n",
        "    return x**2\n",
        "\n",
        "result = numerical_derivative(func1, 3.0)\n",
        "print(result)"
      ]
    },
    {
      "cell_type": "code",
      "source": [
        "# 함수 𝑓 𝑥 = 3𝑥e^x 미분계수 𝑓'(2.0) 계산 실습\n",
        "\n",
        "import numpy as np\n",
        "# 미분 공식 구현\n",
        "def numerical_derivative(f,x):\n",
        "    delta = 1e-5\n",
        "    diff_x = (f(x+delta) - f(x-delta)) / (2*delta)\n",
        "    return diff_x\n",
        "\n",
        "# 미분 대상 함수\n",
        "def func2(x):\n",
        "    return 3*x*(np.exp(x))\n",
        "\n",
        "result = numerical_derivative(func2, 2.0)\n",
        "print(result)"
      ],
      "metadata": {
        "colab": {
          "base_uri": "https://localhost:8080/"
        },
        "id": "i99lHsCVOmcN",
        "outputId": "8f0ee711-1b8d-4c02-cc11-2d164735d522"
      },
      "execution_count": 2,
      "outputs": [
        {
          "output_type": "stream",
          "name": "stdout",
          "text": [
            "66.50150489306839\n"
          ]
        }
      ]
    },
    {
      "cell_type": "code",
      "source": [
        "# 수학공식 검증\n",
        "\n",
        "print(3*np.exp(2)+ 3*2*np.exp(2))"
      ],
      "metadata": {
        "colab": {
          "base_uri": "https://localhost:8080/"
        },
        "id": "uTIwq8a9PJCL",
        "outputId": "48f3821f-146e-424e-ed79-bcea6bb53294"
      },
      "execution_count": 3,
      "outputs": [
        {
          "output_type": "stream",
          "name": "stdout",
          "text": [
            "66.50150489037586\n"
          ]
        }
      ]
    },
    {
      "cell_type": "code",
      "source": [
        "# np.zeros\n",
        "\n",
        "import numpy as np\n",
        "\n",
        "a = np.zeros([2,3,3])\n",
        "\n",
        "a"
      ],
      "metadata": {
        "colab": {
          "base_uri": "https://localhost:8080/"
        },
        "id": "rWuHASBkRDNa",
        "outputId": "d415e3e6-d095-4912-e6fa-dd700128c3d3"
      },
      "execution_count": 4,
      "outputs": [
        {
          "output_type": "execute_result",
          "data": {
            "text/plain": [
              "array([[[0., 0., 0.],\n",
              "        [0., 0., 0.],\n",
              "        [0., 0., 0.]],\n",
              "\n",
              "       [[0., 0., 0.],\n",
              "        [0., 0., 0.],\n",
              "        [0., 0., 0.]]])"
            ]
          },
          "metadata": {},
          "execution_count": 4
        }
      ]
    },
    {
      "cell_type": "code",
      "source": [
        "b = np.zeros((2,3,3))\n",
        "\n",
        "b"
      ],
      "metadata": {
        "colab": {
          "base_uri": "https://localhost:8080/"
        },
        "id": "tyCyQKTaRXrP",
        "outputId": "2fe784c4-105d-4f6b-e1ad-25061eb412fa"
      },
      "execution_count": 5,
      "outputs": [
        {
          "output_type": "execute_result",
          "data": {
            "text/plain": [
              "array([[[0., 0., 0.],\n",
              "        [0., 0., 0.],\n",
              "        [0., 0., 0.]],\n",
              "\n",
              "       [[0., 0., 0.],\n",
              "        [0., 0., 0.],\n",
              "        [0., 0., 0.]]])"
            ]
          },
          "metadata": {},
          "execution_count": 5
        }
      ]
    },
    {
      "cell_type": "code",
      "source": [
        "# np.zeros_like\n",
        "a = np.zeros_like((2,3,3,10))\n",
        "b = np.zeros_like(a)\n",
        "\n",
        "b"
      ],
      "metadata": {
        "colab": {
          "base_uri": "https://localhost:8080/"
        },
        "id": "brzjLcyDRiht",
        "outputId": "ab4a5170-69ba-4b7e-816b-6b8257230f0c"
      },
      "execution_count": 6,
      "outputs": [
        {
          "output_type": "execute_result",
          "data": {
            "text/plain": [
              "array([0, 0, 0, 0])"
            ]
          },
          "metadata": {},
          "execution_count": 6
        }
      ]
    },
    {
      "cell_type": "code",
      "source": [
        "a = np.zeros_like([2,3,3,10])\n",
        "b = np.zeros_like(a)\n",
        "\n",
        "b"
      ],
      "metadata": {
        "colab": {
          "base_uri": "https://localhost:8080/"
        },
        "id": "bWJjTQsXRqOs",
        "outputId": "2a520db6-ca2a-4a2b-9d17-31563371871c"
      },
      "execution_count": 7,
      "outputs": [
        {
          "output_type": "execute_result",
          "data": {
            "text/plain": [
              "array([0, 0, 0, 0])"
            ]
          },
          "metadata": {},
          "execution_count": 7
        }
      ]
    },
    {
      "cell_type": "code",
      "source": [
        "# numpy iterator\n",
        "\n",
        "import numpy as np\n",
        "\n",
        "A = np.array([[10,20,30,40],[50,60,70,80]])\n",
        "\n",
        "print(A)\n",
        "print(A.shape)\n",
        "\n",
        "it = np.nditer(A,flags=['multi_index'],op_flags=['readwrite'])\n",
        "\n",
        "while not it.finished:\n",
        "    idx = it.multi_index\n",
        "    print('index =>', idx, 'value=>', A[idx])\n",
        "    it.iternext()"
      ],
      "metadata": {
        "colab": {
          "base_uri": "https://localhost:8080/"
        },
        "id": "gvvrMKVWSgCh",
        "outputId": "b567b90b-2897-4d7e-d187-9bfe8cc453bd"
      },
      "execution_count": 8,
      "outputs": [
        {
          "output_type": "stream",
          "name": "stdout",
          "text": [
            "[[10 20 30 40]\n",
            " [50 60 70 80]]\n",
            "(2, 4)\n",
            "index => (0, 0) value=> 10\n",
            "index => (0, 1) value=> 20\n",
            "index => (0, 2) value=> 30\n",
            "index => (0, 3) value=> 40\n",
            "index => (1, 0) value=> 50\n",
            "index => (1, 1) value=> 60\n",
            "index => (1, 2) value=> 70\n",
            "index => (1, 3) value=> 80\n"
          ]
        }
      ]
    },
    {
      "cell_type": "code",
      "source": [
        "# numpy iterator에 대한 코딩 실습\n",
        "\n",
        "import numpy as np\n",
        "\n",
        "def numerical_derivative(f,x): # f는 미분하고자 하는 다변수 함수 , x는 모든 변수를 포함하고 있는 numpy 객체(배열,행렬,....)\n",
        "    delta_x = 1e-5\n",
        "    grad = np.zeros_like(x) # 1. 계산된 수치미분 값 저장 변수\n",
        "    it = np.nditer(x,flags=['multi_index'],op_flags=['readwrite']) # 2. 모든 입력변수에 대해 편미분하기 위해 iterator 획득 \n",
        "    while not it.finished:\n",
        "        idx = it.multi_index\n",
        "        tmp_x = x[idx] # 3. numpy 타입은 mutable 이므로 원래 값 보관\n",
        "        x[idx] = float(tmp_x) + delta_x # 4,하나의 변수에 대한 수치미분 계산\n",
        "        fx1 = f(x) #f(x+delta_x)\n",
        "\n",
        "        x[idx] = tmp_x - delta_x\n",
        "        fx2 = f(x) #f(x-delta_x)\n",
        "        grad[idx] = (fx1-fx2) / (2*delta_x)\n",
        "\n",
        "        x[idx] - tmp_x\n",
        "        it.iternext()\n",
        "    \n",
        "    return grad\n"
      ],
      "metadata": {
        "id": "Z8Jqi6YYTqcS"
      },
      "execution_count": 17,
      "outputs": []
    },
    {
      "cell_type": "code",
      "source": [
        "# 1변수 함수, f(x) = x^2, f(3.0)\n",
        "\n",
        "import numpy as np\n",
        "\n",
        "def numerical_derivative(f,x): # f는 미분하고자 하는 다변수 함수 , x는 모든 변수를 포함하고 있는 numpy 객체(배열,행렬,....)\n",
        "    delta_x = 1e-5\n",
        "    grad = np.zeros_like(x) # 1. 계산된 수치미분 값 저장 변수\n",
        "    print(\"debug 1, initial input variable = \", x)\n",
        "    print(\"debug 2, initual grad = \", grad)\n",
        "    print(\"======================================\")\n",
        "\n",
        "    it = np.nditer(x,flags=['multi_index'],op_flags=['readwrite']) # 2. 모든 입력변수에 대해 편미분하기 위해 iterator 획득 \n",
        "    while not it.finished:\n",
        "        idx = it.multi_index\n",
        "\n",
        "        print(\"debug 3, idx = \", idx ,\",x[idx] = \", x[idx])\n",
        "\n",
        "        tmp_x = x[idx] # 3. numpy 타입은 mutable 이므로 원래 값 보관\n",
        "        x[idx] = float(tmp_x) + delta_x # 4,하나의 변수에 대한 수치미분 계산\n",
        "        fx1 = f(x) #f(x+delta_x)\n",
        "\n",
        "        x[idx] = tmp_x - delta_x\n",
        "        fx2 = f(x) #f(x-delta_x)\n",
        "        grad[idx] = (fx1-fx2) / (2*delta_x)\n",
        "\n",
        "        print(\"debug 4, grad[idx] = \", grad[idx])\n",
        "        print(\"debug 5, grad = \", grad)\n",
        "        print(\"================================\")\n",
        "\n",
        "        x[idx] - tmp_x\n",
        "        it.iternext()\n",
        "\n",
        "    return grad\n",
        "\n",
        "def func4(input_obj):\n",
        "    x = input_obj[0]\n",
        "    y = input_obj[1]\n",
        "    return 2*x + 3*x*y + np.power(y,3)\n",
        "    \n",
        "# (x, y) = (1.0, 2.0)\n",
        "input = np.array([1.0,2.0])\n",
        "numerical_derivative(func4,input)"
      ],
      "metadata": {
        "colab": {
          "base_uri": "https://localhost:8080/"
        },
        "id": "K69D7aI969l-",
        "outputId": "12d239f3-ded3-4b18-c093-31c9b7786be9"
      },
      "execution_count": 18,
      "outputs": [
        {
          "output_type": "stream",
          "name": "stdout",
          "text": [
            "debug 1, initial input variable =  [1. 2.]\n",
            "debug 2, initual grad =  [0. 0.]\n",
            "======================================\n",
            "debug 3, idx =  (0,) ,x[idx] =  1.0\n",
            "debug 4, grad[idx] =  8.00000000005241\n",
            "debug 5, grad =  [8. 0.]\n",
            "================================\n",
            "debug 3, idx =  (1,) ,x[idx] =  2.0\n",
            "debug 4, grad[idx] =  14.99997000022901\n",
            "debug 5, grad =  [ 8.      14.99997]\n",
            "================================\n"
          ]
        },
        {
          "output_type": "execute_result",
          "data": {
            "text/plain": [
              "array([ 8.     , 14.99997])"
            ]
          },
          "metadata": {},
          "execution_count": 18
        }
      ]
    },
    {
      "cell_type": "code",
      "source": [
        "# 4변수 함수, f(w,x,y,z) = wx + yz + 3w + zy^2, f'(1.0, 2.0, 3.0, 4.0)\n",
        "\n",
        "import numpy as np\n",
        "\n",
        "def numerical_derivative(f,x): # f는 미분하고자 하는 다변수 함수 , x는 모든 변수를 포함하고 있는 numpy 객체(배열,행렬,....)\n",
        "    delta_x = 1e-5\n",
        "    grad = np.zeros_like(x) # 1. 계산된 수치미분 값 저장 변수\n",
        "    print(\"debug 1, initial input variable = \", x)\n",
        "    print(\"debug 2, initual grad = \", grad)\n",
        "    print(\"======================================\")\n",
        "\n",
        "    it = np.nditer(x,flags=['multi_index'],op_flags=['readwrite']) # 2. 모든 입력변수에 대해 편미분하기 위해 iterator 획득 \n",
        "    while not it.finished:\n",
        "        idx = it.multi_index\n",
        "\n",
        "        print(\"debug 3, idx = \", idx ,\",x[idx] = \", x[idx])\n",
        "\n",
        "        tmp_x = x[idx] # 3. numpy 타입은 mutable 이므로 원래 값 보관\n",
        "        x[idx] = float(tmp_x) + delta_x # 4,하나의 변수에 대한 수치미분 계산\n",
        "        fx1 = f(x) #f(x+delta_x)\n",
        "\n",
        "        x[idx] = tmp_x - delta_x\n",
        "        fx2 = f(x) #f(x-delta_x)\n",
        "        grad[idx] = (fx1-fx2) / (2*delta_x)\n",
        "\n",
        "        print(\"debug 4, grad[idx] = \", grad[idx])\n",
        "        print(\"debug 5, grad = \", grad)\n",
        "        print(\"================================\")\n",
        "\n",
        "        x[idx] - tmp_x\n",
        "        it.iternext()\n",
        "\n",
        "    return grad\n",
        "\n",
        "def func5(input_obj):\n",
        "    w = input_obj[0,0]\n",
        "    x = input_obj[0,1]\n",
        "    y = input_obj[1,0]\n",
        "    z = input_obj[1,1]\n",
        "    return (w*z + w*y*z + 3*w + z*np.power(y,2))\n",
        "\n",
        "# 입력을 2x2행렬로 구성\n",
        "input = np.array([[1.0, 2.0],[3.0,4.0]])\n",
        "numerical_derivative(func5, input)"
      ],
      "metadata": {
        "colab": {
          "base_uri": "https://localhost:8080/"
        },
        "id": "bRmzxK_9-8Sv",
        "outputId": "44d738e1-5ec5-4495-f418-e9be4fff5f8e"
      },
      "execution_count": 19,
      "outputs": [
        {
          "output_type": "stream",
          "name": "stdout",
          "text": [
            "debug 1, initial input variable =  [[1. 2.]\n",
            " [3. 4.]]\n",
            "debug 2, initual grad =  [[0. 0.]\n",
            " [0. 0.]]\n",
            "======================================\n",
            "debug 3, idx =  (0, 0) ,x[idx] =  1.0\n",
            "debug 4, grad[idx] =  19.000000000346517\n",
            "debug 5, grad =  [[19.  0.]\n",
            " [ 0.  0.]]\n",
            "================================\n",
            "debug 3, idx =  (0, 1) ,x[idx] =  2.0\n",
            "debug 4, grad[idx] =  0.0\n",
            "debug 5, grad =  [[19.  0.]\n",
            " [ 0.  0.]]\n",
            "================================\n",
            "debug 3, idx =  (1, 0) ,x[idx] =  3.0\n",
            "debug 4, grad[idx] =  27.999960000357756\n",
            "debug 5, grad =  [[19.       0.     ]\n",
            " [27.99996  0.     ]]\n",
            "================================\n",
            "debug 3, idx =  (1, 1) ,x[idx] =  4.0\n",
            "debug 4, grad[idx] =  12.999890000031654\n",
            "debug 5, grad =  [[19.       0.     ]\n",
            " [27.99996 12.99989]]\n",
            "================================\n"
          ]
        },
        {
          "output_type": "execute_result",
          "data": {
            "text/plain": [
              "array([[19.     ,  0.     ],\n",
              "       [27.99996, 12.99989]])"
            ]
          },
          "metadata": {},
          "execution_count": 19
        }
      ]
    }
  ]
}