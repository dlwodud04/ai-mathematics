{
  "nbformat": 4,
  "nbformat_minor": 0,
  "metadata": {
    "colab": {
      "provenance": [],
      "authorship_tag": "ABX9TyPhXVZfXMl01+8tG6EXPOqo",
      "include_colab_link": true
    },
    "kernelspec": {
      "name": "python3",
      "display_name": "Python 3"
    },
    "language_info": {
      "name": "python"
    }
  },
  "cells": [
    {
      "cell_type": "markdown",
      "metadata": {
        "id": "view-in-github",
        "colab_type": "text"
      },
      "source": [
        "<a href=\"https://colab.research.google.com/github/dlwodud04/ai-mathematics/blob/main/23-05-16/Linear_Regression.ipynb\" target=\"_parent\"><img src=\"https://colab.research.google.com/assets/colab-badge.svg\" alt=\"Open In Colab\"/></a>"
      ]
    },
    {
      "cell_type": "markdown",
      "source": [
        "**선형회귀 모델**\n",
        "- 트레이닝 데이터를 이옹하여 데이터의 특성과 상관관계 등을 학습하고, 학습 결과를 바탕으로 트레이닝 데이터에 없는 미지의 데이터에 대한 결과를 연속적이나 (숫자)값으로 예측하는 것입니다."
      ],
      "metadata": {
        "id": "tWvZEd4MGinT"
      }
    },
    {
      "cell_type": "markdown",
      "source": [
        "**손실함수**\n",
        "- 머신러닝에서 손실함수 또는 비용함수라고 부르는 이 함수는 직선 \n",
        "y = Wx + b함수의 계산 값 y와 정답 t의 차이를 모두 더해서 수식으로 나타낸 것입니다."
      ],
      "metadata": {
        "id": "5fORWp75I9uI"
      }
    },
    {
      "cell_type": "markdown",
      "source": [
        "**경사하강법**\n",
        "- 머신러닝에는 손실함수의 최솟값을 찾기 위한 다양한 방법이 있지만, 경사하강법이 가장 일반적이며 많이 쓰이는 방법입니다.\n"
      ],
      "metadata": {
        "id": "yZ0smqvaO6Qk"
      }
    },
    {
      "cell_type": "code",
      "execution_count": null,
      "metadata": {
        "id": "Y6mWDnjGCCqR"
      },
      "outputs": [],
      "source": []
    }
  ]
}