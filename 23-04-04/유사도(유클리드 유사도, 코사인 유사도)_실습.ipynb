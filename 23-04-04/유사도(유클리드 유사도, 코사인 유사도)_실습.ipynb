{
  "nbformat": 4,
  "nbformat_minor": 0,
  "metadata": {
    "colab": {
      "provenance": [],
      "authorship_tag": "ABX9TyOC/gTvfVFTLKp4k5OsOlDt",
      "include_colab_link": true
    },
    "kernelspec": {
      "name": "python3",
      "display_name": "Python 3"
    },
    "language_info": {
      "name": "python"
    }
  },
  "cells": [
    {
      "cell_type": "markdown",
      "metadata": {
        "id": "view-in-github",
        "colab_type": "text"
      },
      "source": [
        "<a href=\"https://colab.research.google.com/github/dlwodud04/ai-mathematics/blob/main/23-04-04/%EC%9C%A0%EC%82%AC%EB%8F%84(%EC%9C%A0%ED%81%B4%EB%A6%AC%EB%93%9C%20%EC%9C%A0%EC%82%AC%EB%8F%84%2C%20%EC%BD%94%EC%82%AC%EC%9D%B8%20%EC%9C%A0%EC%82%AC%EB%8F%84)_%EC%8B%A4%EC%8A%B5.ipynb\" target=\"_parent\"><img src=\"https://colab.research.google.com/assets/colab-badge.svg\" alt=\"Open In Colab\"/></a>"
      ]
    },
    {
      "cell_type": "markdown",
      "source": [
        "**유클리드 유사도** \n",
        "- 유클리드 유사도는 두 벡터의 성분에 의해 결정되는 두 점 사이의 거리와 같습니다"
      ],
      "metadata": {
        "id": "RmaIhVFF7EVU"
      }
    },
    {
      "cell_type": "code",
      "execution_count": 2,
      "metadata": {
        "colab": {
          "base_uri": "https://localhost:8080/"
        },
        "id": "DPV2oFbu6dYz",
        "outputId": "381e4d16-cac8-4e06-a3d8-ef0e7044abe8"
      },
      "outputs": [
        {
          "output_type": "stream",
          "name": "stdout",
          "text": [
            "1.0\n",
            "3.7416573867739413\n",
            "3.605551275463989\n"
          ]
        }
      ],
      "source": [
        "import numpy as np\n",
        "\n",
        "def ES(x,y):\n",
        "    p =((x-y) ** 2)\n",
        "    s = np.sum(p)\n",
        "    r = np.sqrt(s)\n",
        "    return r\n",
        "\n",
        "p = np.array([2,1,0])\n",
        "q = np.array([2,2,0])\n",
        "r = np.array([0,1,3])\n",
        "\n",
        "print(ES(p,q))\n",
        "print(ES(q,r))\n",
        "print(ES(p,r))"
      ]
    },
    {
      "cell_type": "markdown",
      "source": [
        "**코사인 유사도**\n",
        "- 두 벡터 간의 코사인 각도를 이용하여 구할 수 있는 두 벡터의 유사도를 의미합니다.\n",
        "- 두 벡터가 이루는 각의 크기 ◦가 작을수록 두 벡터가 유사하다고 할 수 있으므로, 코사인유사도의 값이 1에 가까울수록 두 벡터가 유사하다고 판단합니다"
      ],
      "metadata": {
        "id": "c6-uVsNX9zqp"
      }
    },
    {
      "cell_type": "code",
      "source": [
        "import numpy as np\n",
        "\n",
        "def CS(x, y) :\n",
        "    n = (np.linalg.norm(x)*np.linalg.norm(y)) \n",
        "    i = np.dot(x,y)\n",
        "    q = i / n\n",
        "    return q\n",
        "\n",
        "a = np.array([1,1,0])\n",
        "b = np.array([2,0,0])\n",
        "c = np.array([1,0,2])\n",
        "\n",
        "print(CS(a,b))\n",
        "print(CS(b,c))\n",
        "print(CS(a,c))"
      ],
      "metadata": {
        "colab": {
          "base_uri": "https://localhost:8080/"
        },
        "id": "y3oUM-M6911s",
        "outputId": "507ebcbc-f0f7-4267-bcc8-48069ebfee62"
      },
      "execution_count": 4,
      "outputs": [
        {
          "output_type": "stream",
          "name": "stdout",
          "text": [
            "0.7071067811865475\n",
            "0.4472135954999579\n",
            "0.31622776601683794\n"
          ]
        }
      ]
    }
  ]
}