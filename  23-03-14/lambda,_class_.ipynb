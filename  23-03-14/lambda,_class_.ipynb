{
  "nbformat": 4,
  "nbformat_minor": 0,
  "metadata": {
    "colab": {
      "provenance": [],
      "authorship_tag": "ABX9TyPEqjA1d2424aGyG3Argaxr",
      "include_colab_link": true
    },
    "kernelspec": {
      "name": "python3",
      "display_name": "Python 3"
    },
    "language_info": {
      "name": "python"
    }
  },
  "cells": [
    {
      "cell_type": "markdown",
      "metadata": {
        "id": "view-in-github",
        "colab_type": "text"
      },
      "source": [
        "<a href=\"https://colab.research.google.com/github/dlwodud04/ai-mathematics/blob/main/%2023-03-14/lambda%2C_class_.ipynb\" target=\"_parent\"><img src=\"https://colab.research.google.com/assets/colab-badge.svg\" alt=\"Open In Colab\"/></a>"
      ]
    },
    {
      "cell_type": "code",
      "execution_count": 3,
      "metadata": {
        "colab": {
          "base_uri": "https://localhost:8080/"
        },
        "id": "vRsGRm8V1oO7",
        "outputId": "079a8b02-5d83-425d-dac5-f6701d7e9736"
      },
      "outputs": [
        {
          "output_type": "stream",
          "name": "stdout",
          "text": [
            "1\n",
            "3\n",
            "5\n",
            "7\n",
            "9\n"
          ]
        }
      ],
      "source": [
        "# 함수명 = lambda 입력1, 입력2,... : 대체되는 표현식\n",
        "\n",
        "f = lambda x : 2*x+1 # f(x) = 2x+1\n",
        "\n",
        "for i in range(5):\n",
        "    print(f(i))"
      ]
    },
    {
      "cell_type": "code",
      "source": [
        "class teacher:\n",
        "    def teach(self):\n",
        "        return \"AI\"\n",
        "Young_seok = teacher()\n",
        "Young_seok.teach()"
      ],
      "metadata": {
        "colab": {
          "base_uri": "https://localhost:8080/",
          "height": 36
        },
        "id": "rPICiFa-2fcH",
        "outputId": "3511ca08-0d06-4e2e-ecc8-276f79c4d696"
      },
      "execution_count": 4,
      "outputs": [
        {
          "output_type": "execute_result",
          "data": {
            "text/plain": [
              "'AI'"
            ],
            "application/vnd.google.colaboratory.intrinsic+json": {
              "type": "string"
            }
          },
          "metadata": {},
          "execution_count": 4
        }
      ]
    },
    {
      "cell_type": "code",
      "source": [
        "class student:\n",
        "    def learn(self):\n",
        "        return \"AI\"\n",
        "studentA = student()\n",
        "studentA.learn()"
      ],
      "metadata": {
        "colab": {
          "base_uri": "https://localhost:8080/",
          "height": 36
        },
        "id": "QGEfJ52u2x3_",
        "outputId": "f70e27ad-92af-4185-dd78-623d923e7431"
      },
      "execution_count": 5,
      "outputs": [
        {
          "output_type": "execute_result",
          "data": {
            "text/plain": [
              "'AI'"
            ],
            "application/vnd.google.colaboratory.intrinsic+json": {
              "type": "string"
            }
          },
          "metadata": {},
          "execution_count": 5
        }
      ]
    }
  ]
}