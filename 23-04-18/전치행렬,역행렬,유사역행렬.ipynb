{
  "nbformat": 4,
  "nbformat_minor": 0,
  "metadata": {
    "colab": {
      "provenance": [],
      "authorship_tag": "ABX9TyPq6Oud1snFv5dR6kpzy+m1",
      "include_colab_link": true
    },
    "kernelspec": {
      "name": "python3",
      "display_name": "Python 3"
    },
    "language_info": {
      "name": "python"
    }
  },
  "cells": [
    {
      "cell_type": "markdown",
      "metadata": {
        "id": "view-in-github",
        "colab_type": "text"
      },
      "source": [
        "<a href=\"https://colab.research.google.com/github/dlwodud04/ai-mathematics/blob/main/23-04-18/%EC%A0%84%EC%B9%98%ED%96%89%EB%A0%AC%2C%EC%97%AD%ED%96%89%EB%A0%AC%2C%EC%9C%A0%EC%82%AC%EC%97%AD%ED%96%89%EB%A0%AC.ipynb\" target=\"_parent\"><img src=\"https://colab.research.google.com/assets/colab-badge.svg\" alt=\"Open In Colab\"/></a>"
      ]
    },
    {
      "cell_type": "markdown",
      "source": [
        "**전치 행렬** \n",
        "\n",
        "*행렬의 내적에 대한 정의*\n",
        "- 일반적으로 수학에서는 행렬의 내적을 다루지 않습니다,\n",
        "- 하지만 numpy의np.inner를 사용하면 i번쨰 행벡터와 j번째 행벡터 사이의 내적을 성분으로 가지는 행렬을 계산합니다."
      ],
      "metadata": {
        "id": "5zvT_j6P2dSQ"
      }
    },
    {
      "cell_type": "code",
      "execution_count": 2,
      "metadata": {
        "colab": {
          "base_uri": "https://localhost:8080/"
        },
        "id": "qY8fAlV22XRc",
        "outputId": "894bec07-7240-452b-8467-a930426bb375"
      },
      "outputs": [
        {
          "output_type": "execute_result",
          "data": {
            "text/plain": [
              "array([[10,  8, 12],\n",
              "       [17, 13, 15]])"
            ]
          },
          "metadata": {},
          "execution_count": 2
        }
      ],
      "source": [
        "import numpy as np\n",
        "\n",
        "A = np.array([[1,2,3],\n",
        "              [2,4,3]])\n",
        "B = np.array([[3,2,1],\n",
        "              [1,2,1],\n",
        "              [1,1,3]])\n",
        "\n",
        "np.inner(A,B)"
      ]
    },
    {
      "cell_type": "markdown",
      "source": [
        "**연산자로서의 행렬**\n",
        "- 행렬은 벡터공간에서 사용할 수 있는 연산자로 이해할 수 있습니다\n",
        "- 행렬곱을 활용하여 벡터를 다른 차원의 공간으로 이동시킬 수 있습니다"
      ],
      "metadata": {
        "id": "wv9wsdJZ6k20"
      }
    },
    {
      "cell_type": "markdown",
      "source": [
        "**역행렬의 성질**\n",
        "- 역행렬은 행과 열의 숫자가 동일하고 행렬식이 0이 아닌 경우에만 계산할 수 있습니다. \n",
        "\n",
        "-  [a b] = [d -b]\n",
        "-  [c d] = [-c a]\n",
        "- ad-bc"
      ],
      "metadata": {
        "id": "LJBIKirl8d-p"
      }
    },
    {
      "cell_type": "code",
      "source": [
        "import numpy as np\n",
        "\n",
        "A = np.array([[1,2],\n",
        "              [3,4]])\n",
        "\n",
        "np.linalg.inv(A)"
      ],
      "metadata": {
        "colab": {
          "base_uri": "https://localhost:8080/"
        },
        "id": "X3S45uUUEsZ6",
        "outputId": "c45dcbba-bd96-4e75-b8ed-b608ca4e5234"
      },
      "execution_count": 3,
      "outputs": [
        {
          "output_type": "execute_result",
          "data": {
            "text/plain": [
              "array([[-2. ,  1. ],\n",
              "       [ 1.5, -0.5]])"
            ]
          },
          "metadata": {},
          "execution_count": 3
        }
      ]
    },
    {
      "cell_type": "code",
      "source": [
        "A @ np.linalg.inv(A)"
      ],
      "metadata": {
        "colab": {
          "base_uri": "https://localhost:8080/"
        },
        "id": "NplNoK7NFNC9",
        "outputId": "f320bdf8-94af-465a-d82a-899e9b514a88"
      },
      "execution_count": 4,
      "outputs": [
        {
          "output_type": "execute_result",
          "data": {
            "text/plain": [
              "array([[1.0000000e+00, 0.0000000e+00],\n",
              "       [8.8817842e-16, 1.0000000e+00]])"
            ]
          },
          "metadata": {},
          "execution_count": 4
        }
      ]
    },
    {
      "cell_type": "markdown",
      "source": [
        "**유사역행렬**\n",
        "- 만약 역행렬을 계산할 수 없다면, 유사역행렬(pseudo-inverse) 또는 무어-펜로즈(Moore-Penrose) 역행렬 A+을 이용합니다."
      ],
      "metadata": {
        "id": "aST-xQUwFuVV"
      }
    },
    {
      "cell_type": "code",
      "source": [
        "import numpy as np\n",
        "\n",
        "Y = np.array([[0,1],\n",
        "              [1,-1],\n",
        "              [2,1]])\n",
        "\n",
        "np.linalg.pinv(Y)"
      ],
      "metadata": {
        "colab": {
          "base_uri": "https://localhost:8080/"
        },
        "id": "8wbiYRX2GC3u",
        "outputId": "4d3ce193-2bc4-4d71-ccbf-ac5850c27437"
      },
      "execution_count": 6,
      "outputs": [
        {
          "output_type": "execute_result",
          "data": {
            "text/plain": [
              "array([[-0.07142857,  0.28571429,  0.35714286],\n",
              "       [ 0.35714286, -0.42857143,  0.21428571]])"
            ]
          },
          "metadata": {},
          "execution_count": 6
        }
      ]
    },
    {
      "cell_type": "code",
      "source": [
        "np.linalg.pinv(Y) @ Y"
      ],
      "metadata": {
        "colab": {
          "base_uri": "https://localhost:8080/"
        },
        "id": "RqJaV38rJ_bW",
        "outputId": "ff367407-a7e5-4439-bf57-d04eb5ba5719"
      },
      "execution_count": 7,
      "outputs": [
        {
          "output_type": "execute_result",
          "data": {
            "text/plain": [
              "array([[ 1.00000000e+00,  0.00000000e+00],\n",
              "       [-1.66533454e-16,  1.00000000e+00]])"
            ]
          },
          "metadata": {},
          "execution_count": 7
        }
      ]
    }
  ]
}